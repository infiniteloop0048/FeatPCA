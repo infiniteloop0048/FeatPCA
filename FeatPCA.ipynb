{
  "cells": [
    {
      "cell_type": "code",
      "execution_count": 1,
      "metadata": {
        "id": "DK_Dcuxe8kBb",
        "colab": {
          "base_uri": "https://localhost:8080/"
        },
        "outputId": "576f8d0f-e73e-438a-9ae9-a925f8cd7d23",
        "cellView": "form"
      },
      "outputs": [
        {
          "output_type": "stream",
          "name": "stdout",
          "text": [
            "Collecting scanpy\n",
            "  Downloading scanpy-1.10.2-py3-none-any.whl (2.1 MB)\n",
            "\u001b[2K     \u001b[90m━━━━━━━━━━━━━━━━━━━━━━━━━━━━━━━━━━━━━━━━\u001b[0m \u001b[32m2.1/2.1 MB\u001b[0m \u001b[31m6.9 MB/s\u001b[0m eta \u001b[36m0:00:00\u001b[0m\n",
            "\u001b[?25hCollecting anndata>=0.8 (from scanpy)\n",
            "  Downloading anndata-0.10.8-py3-none-any.whl (124 kB)\n",
            "\u001b[2K     \u001b[90m━━━━━━━━━━━━━━━━━━━━━━━━━━━━━━━━━━━━━━━━\u001b[0m \u001b[32m124.4/124.4 kB\u001b[0m \u001b[31m3.3 MB/s\u001b[0m eta \u001b[36m0:00:00\u001b[0m\n",
            "\u001b[?25hRequirement already satisfied: h5py>=3.1 in /usr/local/lib/python3.10/dist-packages (from scanpy) (3.9.0)\n",
            "Requirement already satisfied: joblib in /usr/local/lib/python3.10/dist-packages (from scanpy) (1.4.2)\n",
            "Collecting legacy-api-wrap>=1.4 (from scanpy)\n",
            "  Downloading legacy_api_wrap-1.4-py3-none-any.whl (15 kB)\n",
            "Requirement already satisfied: matplotlib>=3.6 in /usr/local/lib/python3.10/dist-packages (from scanpy) (3.7.1)\n",
            "Requirement already satisfied: natsort in /usr/local/lib/python3.10/dist-packages (from scanpy) (8.4.0)\n",
            "Requirement already satisfied: networkx>=2.7 in /usr/local/lib/python3.10/dist-packages (from scanpy) (3.3)\n",
            "Requirement already satisfied: numba>=0.56 in /usr/local/lib/python3.10/dist-packages (from scanpy) (0.58.1)\n",
            "Requirement already satisfied: numpy<2,>=1.23 in /usr/local/lib/python3.10/dist-packages (from scanpy) (1.25.2)\n",
            "Requirement already satisfied: packaging>=21.3 in /usr/local/lib/python3.10/dist-packages (from scanpy) (24.1)\n",
            "Requirement already satisfied: pandas>=1.5 in /usr/local/lib/python3.10/dist-packages (from scanpy) (2.0.3)\n",
            "Requirement already satisfied: patsy in /usr/local/lib/python3.10/dist-packages (from scanpy) (0.5.6)\n",
            "Collecting pynndescent>=0.5 (from scanpy)\n",
            "  Downloading pynndescent-0.5.13-py3-none-any.whl (56 kB)\n",
            "\u001b[2K     \u001b[90m━━━━━━━━━━━━━━━━━━━━━━━━━━━━━━━━━━━━━━━━\u001b[0m \u001b[32m56.9/56.9 kB\u001b[0m \u001b[31m5.8 MB/s\u001b[0m eta \u001b[36m0:00:00\u001b[0m\n",
            "\u001b[?25hRequirement already satisfied: scikit-learn>=0.24 in /usr/local/lib/python3.10/dist-packages (from scanpy) (1.2.2)\n",
            "Requirement already satisfied: scipy>=1.8 in /usr/local/lib/python3.10/dist-packages (from scanpy) (1.11.4)\n",
            "Requirement already satisfied: seaborn>=0.13 in /usr/local/lib/python3.10/dist-packages (from scanpy) (0.13.1)\n",
            "Collecting session-info (from scanpy)\n",
            "  Downloading session_info-1.0.0.tar.gz (24 kB)\n",
            "  Preparing metadata (setup.py) ... \u001b[?25l\u001b[?25hdone\n",
            "Requirement already satisfied: statsmodels>=0.13 in /usr/local/lib/python3.10/dist-packages (from scanpy) (0.14.2)\n",
            "Requirement already satisfied: tqdm in /usr/local/lib/python3.10/dist-packages (from scanpy) (4.66.4)\n",
            "Collecting umap-learn!=0.5.0,>=0.5 (from scanpy)\n",
            "  Downloading umap_learn-0.5.6-py3-none-any.whl (85 kB)\n",
            "\u001b[2K     \u001b[90m━━━━━━━━━━━━━━━━━━━━━━━━━━━━━━━━━━━━━━━━\u001b[0m \u001b[32m85.7/85.7 kB\u001b[0m \u001b[31m11.1 MB/s\u001b[0m eta \u001b[36m0:00:00\u001b[0m\n",
            "\u001b[?25hCollecting array-api-compat!=1.5,>1.4 (from anndata>=0.8->scanpy)\n",
            "  Downloading array_api_compat-1.7.1-py3-none-any.whl (37 kB)\n",
            "Requirement already satisfied: exceptiongroup in /usr/local/lib/python3.10/dist-packages (from anndata>=0.8->scanpy) (1.2.1)\n",
            "Requirement already satisfied: contourpy>=1.0.1 in /usr/local/lib/python3.10/dist-packages (from matplotlib>=3.6->scanpy) (1.2.1)\n",
            "Requirement already satisfied: cycler>=0.10 in /usr/local/lib/python3.10/dist-packages (from matplotlib>=3.6->scanpy) (0.12.1)\n",
            "Requirement already satisfied: fonttools>=4.22.0 in /usr/local/lib/python3.10/dist-packages (from matplotlib>=3.6->scanpy) (4.53.0)\n",
            "Requirement already satisfied: kiwisolver>=1.0.1 in /usr/local/lib/python3.10/dist-packages (from matplotlib>=3.6->scanpy) (1.4.5)\n",
            "Requirement already satisfied: pillow>=6.2.0 in /usr/local/lib/python3.10/dist-packages (from matplotlib>=3.6->scanpy) (9.4.0)\n",
            "Requirement already satisfied: pyparsing>=2.3.1 in /usr/local/lib/python3.10/dist-packages (from matplotlib>=3.6->scanpy) (3.1.2)\n",
            "Requirement already satisfied: python-dateutil>=2.7 in /usr/local/lib/python3.10/dist-packages (from matplotlib>=3.6->scanpy) (2.8.2)\n",
            "Requirement already satisfied: llvmlite<0.42,>=0.41.0dev0 in /usr/local/lib/python3.10/dist-packages (from numba>=0.56->scanpy) (0.41.1)\n",
            "Requirement already satisfied: pytz>=2020.1 in /usr/local/lib/python3.10/dist-packages (from pandas>=1.5->scanpy) (2023.4)\n",
            "Requirement already satisfied: tzdata>=2022.1 in /usr/local/lib/python3.10/dist-packages (from pandas>=1.5->scanpy) (2024.1)\n",
            "Requirement already satisfied: threadpoolctl>=2.0.0 in /usr/local/lib/python3.10/dist-packages (from scikit-learn>=0.24->scanpy) (3.5.0)\n",
            "Requirement already satisfied: six in /usr/local/lib/python3.10/dist-packages (from patsy->scanpy) (1.16.0)\n",
            "Collecting stdlib_list (from session-info->scanpy)\n",
            "  Downloading stdlib_list-0.10.0-py3-none-any.whl (79 kB)\n",
            "\u001b[2K     \u001b[90m━━━━━━━━━━━━━━━━━━━━━━━━━━━━━━━━━━━━━━━━\u001b[0m \u001b[32m79.8/79.8 kB\u001b[0m \u001b[31m6.2 MB/s\u001b[0m eta \u001b[36m0:00:00\u001b[0m\n",
            "\u001b[?25hBuilding wheels for collected packages: session-info\n",
            "  Building wheel for session-info (setup.py) ... \u001b[?25l\u001b[?25hdone\n",
            "  Created wheel for session-info: filename=session_info-1.0.0-py3-none-any.whl size=8026 sha256=4fb871178771aed124c9db75fc3ea67e03ea9a9d857ddf9749de0485ab94418a\n",
            "  Stored in directory: /root/.cache/pip/wheels/6a/aa/b9/eb5d4031476ec10802795b97ccf937b9bd998d68a9b268765a\n",
            "Successfully built session-info\n",
            "Installing collected packages: array-api-compat, stdlib_list, legacy-api-wrap, session-info, pynndescent, anndata, umap-learn, scanpy\n",
            "Successfully installed anndata-0.10.8 array-api-compat-1.7.1 legacy-api-wrap-1.4 pynndescent-0.5.13 scanpy-1.10.2 session-info-1.0.0 stdlib_list-0.10.0 umap-learn-0.5.6\n",
            "Collecting leidenalg\n",
            "  Downloading leidenalg-0.10.2-cp38-abi3-manylinux_2_17_x86_64.manylinux2014_x86_64.whl (2.0 MB)\n",
            "\u001b[2K     \u001b[90m━━━━━━━━━━━━━━━━━━━━━━━━━━━━━━━━━━━━━━━━\u001b[0m \u001b[32m2.0/2.0 MB\u001b[0m \u001b[31m18.8 MB/s\u001b[0m eta \u001b[36m0:00:00\u001b[0m\n",
            "\u001b[?25hCollecting python-igraph\n",
            "  Downloading python_igraph-0.11.5-py3-none-any.whl (9.1 kB)\n",
            "Collecting igraph<0.12,>=0.10.0 (from leidenalg)\n",
            "  Downloading igraph-0.11.5-cp39-abi3-manylinux_2_17_x86_64.manylinux2014_x86_64.whl (3.3 MB)\n",
            "\u001b[2K     \u001b[90m━━━━━━━━━━━━━━━━━━━━━━━━━━━━━━━━━━━━━━━━\u001b[0m \u001b[32m3.3/3.3 MB\u001b[0m \u001b[31m50.2 MB/s\u001b[0m eta \u001b[36m0:00:00\u001b[0m\n",
            "\u001b[?25hCollecting texttable>=1.6.2 (from igraph<0.12,>=0.10.0->leidenalg)\n",
            "  Downloading texttable-1.7.0-py2.py3-none-any.whl (10 kB)\n",
            "Installing collected packages: texttable, igraph, python-igraph, leidenalg\n",
            "Successfully installed igraph-0.11.5 leidenalg-0.10.2 python-igraph-0.11.5 texttable-1.7.0\n",
            "Requirement already satisfied: networkx in /usr/local/lib/python3.10/dist-packages (3.3)\n"
          ]
        }
      ],
      "source": [
        "#@title Install packages\n",
        "# !pip install -q torch\n",
        "!pip install scanpy\n",
        "# !pip install torch-scatter -f https://data.pyg.org/whl/torch-${TORCH}.html\n",
        "# !pip install torch-sparse -f https://data.pyg.org/whl/torch-${TORCH}.html\n",
        "# !pip install git+https://github.com/pyg-team/pytorch_geometric.git\n",
        "!pip install leidenalg python-igraph\n",
        "!pip install networkx"
      ]
    },
    {
      "cell_type": "code",
      "execution_count": 2,
      "metadata": {
        "id": "TbmFI3ri_OCO",
        "cellView": "form"
      },
      "outputs": [],
      "source": [
        "#@title Importing packages\n",
        "import scanpy as sc\n",
        "import pandas as pd\n",
        "\n",
        "from sklearn.decomposition import PCA\n",
        "from sklearn.preprocessing import StandardScaler\n",
        "import numpy as np\n",
        "import matplotlib.pyplot as plt\n",
        "\n",
        "import os\n",
        "# import torch\n",
        "# os.environ['TORCH'] = torch.__version__\n",
        "# os.environ['PYTHONWARNINGS'] = \"ignore\"\n",
        "\n",
        "# import torch\n",
        "# import torch.nn.functional as F\n",
        "# from torch_geometric.nn import GCNConv, global_mean_pool\n",
        "\n",
        "%matplotlib inline\n",
        "import matplotlib.pyplot as plt\n",
        "from sklearn.manifold import TSNE\n",
        "\n",
        "from sklearn import preprocessing\n",
        "import scanpy as sc\n",
        "\n",
        "import anndata\n",
        "\n",
        "# import torch\n",
        "# import torch.nn as nn\n",
        "# import torch.optim as optim\n",
        "# from torch_geometric.nn import GCNConv\n",
        "\n",
        "\n",
        "from collections import Counter\n",
        "\n",
        "from sklearn.cluster import KMeans\n",
        "import numpy as np\n",
        "from sklearn import metrics\n",
        "from sklearn.preprocessing import LabelEncoder\n",
        "\n",
        "from sklearn.cluster import AgglomerativeClustering\n",
        "import os\n",
        "\n",
        "\n",
        "import leidenalg\n",
        "import igraph as ig\n",
        "from scipy.spatial import distance\n",
        "import numpy as np\n",
        "\n",
        "import numpy as np\n",
        "from sklearn.neighbors import NearestNeighbors\n",
        "import networkx as nx\n",
        "\n",
        "\n",
        "import numpy as np\n",
        "import tensorflow as tf\n",
        "from tensorflow.keras.layers import Input, Dense\n",
        "from tensorflow.keras.models import Model"
      ]
    },
    {
      "cell_type": "code",
      "execution_count": 3,
      "metadata": {
        "colab": {
          "base_uri": "https://localhost:8080/"
        },
        "id": "jkrcwFDu8v47",
        "outputId": "6bb86d49-700e-4c4e-f41c-67e4e6fe4346",
        "cellView": "form"
      },
      "outputs": [
        {
          "output_type": "stream",
          "name": "stdout",
          "text": [
            "Mounted at /content/drive\n"
          ]
        }
      ],
      "source": [
        "#@title Connecting to drive\n",
        "from google.colab import drive\n",
        "drive.mount('/content/drive')"
      ]
    },
    {
      "cell_type": "code",
      "execution_count": 4,
      "metadata": {
        "id": "OaBWtdIE9Asy",
        "cellView": "form"
      },
      "outputs": [],
      "source": [
        "#@title Reading Files\n",
        "class Read_File:\n",
        "    def __init__(self, file_path):\n",
        "        self.file_path = file_path\n",
        "\n",
        "    def getFilePath(self):\n",
        "        return self.file_path\n",
        "\n",
        "    def readFileRetDF(self):\n",
        "        df = pd.read_csv(self.file_path)\n",
        "        return df\n",
        "\n",
        "    def readFileByScanpy(self):\n",
        "        adata = sc.read(self.file_path)\n",
        "        adata = adata.T\n",
        "        return adata"
      ]
    },
    {
      "cell_type": "code",
      "source": [
        "#@title AutoEncoder\n",
        "class AutoEncoder:\n",
        "    def __init__(self, input_dim, encoding_dim):\n",
        "        self.input_dim = input_dim\n",
        "        self.encoding_dim = encoding_dim\n",
        "\n",
        "    def add_noise(self, x_train):\n",
        "        noise_factor = 0.5\n",
        "        x_train = x_train + noise_factor * np.random.normal(loc=0.0, scale=1.0, size=x_train.shape)\n",
        "        return x_train\n",
        "\n",
        "    def performEncoding(self, x_train_noise, x_train):\n",
        "        input_img = Input(shape=(self.input_dim,))\n",
        "        # stacked autoencoder\n",
        "        # encoded = Dense(4096, activation='relu')(input_img)\n",
        "        # encoded = Dense(2048, activation='relu')(encoded)\n",
        "        # encoded = Dense(1024, activation='relu')(input_img)\n",
        "        # encoded = Dense(512, activation='relu')(encoded)\n",
        "        # encoded = Dense(264, activation='relu')(input_img)\n",
        "        # encoded = Dense(128, activation='relu')(encoded)\n",
        "        # encoded = Dense(64, activation='relu')(encoded)\n",
        "        # \"encoded\" is the encoded representation of the input\n",
        "        encoded = Dense(self.encoding_dim, activation='relu')(input_img)\n",
        "        # stacked autoencoder\n",
        "        # decoded = Dense(64, activation='relu')(encoded)\n",
        "        # decoded = Dense(128, activation='relu')(decoded)\n",
        "        # decoded = Dense(264, activation='relu')(decoded)\n",
        "        # decoded = Dense(512, activation='relu')(decoded)\n",
        "        # decoded = Dense(1024, activation='relu')(decoded)\n",
        "        # decoded = Dense(2048, activation='relu')(decoded)\n",
        "        # decoded = Dense(4096, activation='relu')(decoded)\n",
        "        # \"decoded\" is the lossy reconstruction of the input\n",
        "        decoded = Dense(self.input_dim, activation='sigmoid')(decoded)\n",
        "\n",
        "        # This model maps an input to its reconstruction\n",
        "        autoencoder = Model(input_img, decoded)\n",
        "        # This model maps an input to its encoded representation\n",
        "        encoder = Model(input_img, encoded)\n",
        "        # decoder = Model(encoded, decoded)\n",
        "\n",
        "        autoencoder.compile(optimizer='adam', loss='binary_crossentropy')\n",
        "        # Now let's train our autoencoder for 50 epochs:\n",
        "\n",
        "        autoencoder.fit(x_train_noise, x_train,\n",
        "                        epochs=50,\n",
        "                        batch_size=x_train.shape[0],\n",
        "                        shuffle=True, verbose = 0)\n",
        "        # encoding the data\n",
        "        encoded_imgs = encoder.predict(x_train, verbose=0)\n",
        "        # decoded_imgs = decoder.predict(encoded_imgs)\n",
        "        return encoded_imgs\n",
        "\n",
        "    def performDecoding(self, x_train_noise, x_train):\n",
        "        input_img = Input(shape=(self.input_dim,))\n",
        "        # stacked autoencoder\n",
        "        # encoded = Dense(4096, activation='relu')(input_img)\n",
        "        # encoded = Dense(2048, activation='relu')(encoded)\n",
        "        # encoded = Dense(1024, activation='relu')(input_img)\n",
        "        # encoded = Dense(512, activation='relu')(encoded)\n",
        "        # encoded = Dense(264, activation='relu')(input_img)\n",
        "        # encoded = Dense(128, activation='relu')(encoded)\n",
        "        # encoded = Dense(64, activation='relu')(encoded)\n",
        "        # encoded = Dense(100, activation='relu')(encoded)\n",
        "        # \"encoded\" is the encoded representation of the input\n",
        "        encoded = Dense(self.encoding_dim, activation='relu')(input_img)\n",
        "\n",
        "        # stacked autoencoder\n",
        "        # decoded = Dense(100, activation='relu')(encoded)\n",
        "        # decoded = Dense(64, activation='relu')(encoded)\n",
        "        # decoded = Dense(128, activation='relu')(decoded)\n",
        "        # decoded = Dense(264, activation='relu')(decoded)\n",
        "        # decoded = Dense(512, activation='relu')(decoded)\n",
        "        # decoded = Dense(1024, activation='relu')(decoded)\n",
        "        # decoded = Dense(2048, activation='relu')(decoded)\n",
        "        # decoded = Dense(4096, activation='relu')(decoded)\n",
        "        # \"decoded\" is the lossy reconstruction of the input\n",
        "        decoded = Dense(self.input_dim, activation='sigmoid')(encoded)\n",
        "\n",
        "        # This model maps an input to its reconstruction\n",
        "        autoencoder = Model(input_img, decoded)\n",
        "        # This model maps an input to its encoded representation\n",
        "        encoder = Model(input_img, encoded)\n",
        "\n",
        "        # create a placeholder for an encoded (32-dimensional) input\n",
        "        encoded_input = Input(shape=(self.encoding_dim,))\n",
        "        # retrieve the last layer of the autoencoder model\n",
        "        decoder_layer = autoencoder.layers[-1]\n",
        "        # create the decoder model\n",
        "        print(\"----------------------\")\n",
        "        decoder = Model(encoded, decoded)\n",
        "        print(\"----------------------\")\n",
        "\n",
        "        autoencoder.compile(optimizer='adam', loss='binary_crossentropy')\n",
        "        # Now let's train our autoencoder for 50 epochs:\n",
        "\n",
        "        autoencoder.fit(x_train_noise, x_train,\n",
        "                        epochs=50,\n",
        "                        batch_size=x_train.shape[0],\n",
        "                        shuffle=True, verbose = 0)\n",
        "        # encoding the data\n",
        "        encoded_imgs = encoder.predict(x_train, verbose=0)\n",
        "        decoded_imgs = decoder.predict(encoded_imgs, verbose = 0)\n",
        "        return decoded_imgs\n"
      ],
      "metadata": {
        "id": "NZrh-Dz2GU6D",
        "cellView": "form"
      },
      "execution_count": 5,
      "outputs": []
    },
    {
      "cell_type": "code",
      "execution_count": 14,
      "metadata": {
        "id": "NgNDHiLM-DX1"
      },
      "outputs": [],
      "source": [
        "#@title PCA calculation OR Autoencoder\n",
        "\n",
        "class FineTune:\n",
        "\n",
        "    # def __init__(self, df):\n",
        "    #     self.df = df\n",
        "\n",
        "    def makeCellByGeneFile(self, df):\n",
        "        df = df.drop(df.columns[0], axis=1) # removing gene names\n",
        "        df = df.T # making cell * genes\n",
        "        num_of_genes = df.shape[1]\n",
        "        return df, num_of_genes\n",
        "\n",
        "    def normalize(self, df):\n",
        "        df = preprocessing.normalize(df)\n",
        "        df = np.log1p(df)\n",
        "        df = pd.DataFrame(df)\n",
        "        return df\n",
        "\n",
        "\n",
        "    def findHVG(self, df, num_of_genes):\n",
        "\n",
        "        adata = anndata.AnnData(df)\n",
        "\n",
        "        n_top_genes = 10000\n",
        "        if num_of_genes >= 10000:\n",
        "            n_top_genes = 10000\n",
        "        else:\n",
        "            n_top_genes = num_of_genes\n",
        "\n",
        "\n",
        "        sc.pp.highly_variable_genes(adata, n_top_genes=n_top_genes, min_mean=0.0125, max_mean=3)\n",
        "        highly_variable_genes = adata.var['highly_variable']\n",
        "\n",
        "\n",
        "        # print(highly_variable_genes)\n",
        "        df = df.loc[:, highly_variable_genes.values]\n",
        "        print(\"highly variable genes\", df.shape)\n",
        "        return df\n",
        "\n",
        "\n",
        "    def PCA_for_divided_data(self, df, start, end, n_components):\n",
        "        pca = PCA(n_components=.95)\n",
        "        # pca = PCA(n_components=n_components)\n",
        "        pca.fit(df.iloc[:, start:end])\n",
        "        pca_features = pca.transform(df.iloc[:, start:end])\n",
        "        # print(\"shape of divided data \", pca_features.shape)\n",
        "        return pca_features\n",
        "\n",
        "    def PCA4(self, df, num_of_genes, n_components, number_of_division, overlapping_percentage):\n",
        "\n",
        "        pca_features_all = []\n",
        "        current_genes = 10000\n",
        "        if num_of_genes >= 10000:\n",
        "            current_genes = 10000\n",
        "        else:\n",
        "            current_genes = num_of_genes\n",
        "\n",
        "        ranze_size = (int)(current_genes / number_of_division)\n",
        "        overlap_size = (int)(ranze_size * overlapping_percentage / 100)\n",
        "\n",
        "        loop = 1\n",
        "        for i in range(0, current_genes, ranze_size):\n",
        "\n",
        "            if i + ranze_size > current_genes:\n",
        "                break\n",
        "\n",
        "            start = np.maximum(i - overlap_size, 0)\n",
        "            end = np.minimum(i + ranze_size + overlap_size, current_genes)\n",
        "\n",
        "            if loop == number_of_division:\n",
        "                end = current_genes\n",
        "\n",
        "            pca_features_all.append(self.PCA_for_divided_data(df, start, end, n_components))\n",
        "            # print(i, i + ranze_size)\n",
        "            loop = loop + 1\n",
        "\n",
        "        return pca_features_all\n",
        "\n",
        "    def PCA4GeneCluster(self, df, range_list, n_components, overlapping_percentage):\n",
        "\n",
        "        pca_features_all = []\n",
        "\n",
        "        for i in range(1, len(range_list), 1):\n",
        "\n",
        "            start = range_list[i - 1]\n",
        "            end = range_list[i]\n",
        "\n",
        "            start = start - 200\n",
        "            end = end + 200\n",
        "\n",
        "            start = np.maximum(start, 0)\n",
        "            end = np.minimum(end, df.shape[1])\n",
        "\n",
        "            # if i == len(range_list) - 1:\n",
        "            #     end = df.shape[0]\n",
        "\n",
        "            pca_features_all.append(self.PCA_for_divided_data(df, start, end, n_components))\n",
        "\n",
        "        return pca_features_all\n",
        "\n",
        "\n",
        "    def performTuning(self, df):\n",
        "        df, num_of_genes = self.makeCellByGeneFile(df)\n",
        "        df = self.normalize(df)\n",
        "        # print(\"values greater than 0 \", (df >= 0).sum().sum(), \"values less than 0 \", (df < 0).sum().sum())\n",
        "        df = self.findHVG(df, num_of_genes)\n",
        "        return df, num_of_genes\n",
        "\n",
        "\n",
        "\n",
        "    def performPCA(self, df, num_of_genes, n_components, number_of_division, overlapping_percentage):\n",
        "\n",
        "        pca_features_all = self.PCA4(df, num_of_genes, n_components, number_of_division, overlapping_percentage)\n",
        "\n",
        "        # print(pca_features_all[0].shape)\n",
        "        # print(type(pca_features_all[0]))\n",
        "\n",
        "        # pca_features_final = pca_features_all[number_of_division - 1]\n",
        "        # for i in range(number_of_division - 1):\n",
        "        #     pca_features_final = pca_features_final + pca_features_all[i]\n",
        "\n",
        "        # pca_features_final = pca_features_final / number_of_division\n",
        "\n",
        "        # just to concetenate\n",
        "\n",
        "        pca_features_final = pca_features_all[number_of_division - 1]\n",
        "        for i in range(number_of_division - 1):\n",
        "            pca_features_final = np.concatenate((pca_features_final, pca_features_all[i]), axis=1)\n",
        "\n",
        "        print(\"final shape of pca \", pca_features_final.shape)\n",
        "\n",
        "        return pca_features_final\n",
        "\n",
        "    def performPCAonClusterGene(self, df, range_list, n_components, overlapping_percentage):\n",
        "        pca_features_all = self.PCA4GeneCluster(df, range_list, n_components, overlapping_percentage)\n",
        "\n",
        "        pca_features_final = pca_features_all[len(range_list) - 2]\n",
        "        for i in range(len(range_list) - 2):\n",
        "            pca_features_final = np.concatenate((pca_features_final, pca_features_all[i]), axis=1)\n",
        "\n",
        "        print(\"final shape of pca \", pca_features_final.shape)\n",
        "\n",
        "        return pca_features_final\n",
        "\n",
        "    # Autoencoders\n",
        "\n",
        "\n",
        "    def Encode(self, df, num_of_genes, n_components, number_of_division, overlapping_percentage):\n",
        "\n",
        "        pca_features_all = []\n",
        "        current_genes = 10000\n",
        "        if num_of_genes >= 10000:\n",
        "            current_genes = 10000\n",
        "        else:\n",
        "            current_genes = num_of_genes\n",
        "\n",
        "        ranze_size = (int)(current_genes / number_of_division)\n",
        "        overlap_size = (int)(ranze_size * overlapping_percentage / 100)\n",
        "\n",
        "        loop = 1\n",
        "        for i in range(0, current_genes, ranze_size):\n",
        "\n",
        "            if i + ranze_size > current_genes:\n",
        "                break\n",
        "\n",
        "            start = np.maximum(i - overlap_size, 0)\n",
        "            end = np.minimum(i + ranze_size + overlap_size, current_genes)\n",
        "\n",
        "            if loop == number_of_division:\n",
        "                end = current_genes\n",
        "\n",
        "            autoencoder = AutoEncoder(end - start, n_components)\n",
        "            noised_data = autoencoder.add_noise(np.array(df.iloc[:, start:end].copy()))\n",
        "\n",
        "            pca_features_all.append(autoencoder.performEncoding(noised_data, np.array(df.iloc[:, start:end].copy())))\n",
        "            # print(i, i + ranze_size)\n",
        "            loop = loop + 1\n",
        "\n",
        "        return pca_features_all\n",
        "\n",
        "\n",
        "\n",
        "    def performEncoding(self, df, num_of_genes, n_components, number_of_division, overlapping_percentage):\n",
        "\n",
        "        pca_features_all = self.Encode(df, num_of_genes, n_components, number_of_division, overlapping_percentage)\n",
        "\n",
        "        # print(pca_features_all[0].shape)\n",
        "\n",
        "        # pca_features_final = pca_features_all[number_of_division - 1]\n",
        "        # for i in range(number_of_division - 1):\n",
        "        #     pca_features_final = pca_features_final + pca_features_all[i]\n",
        "\n",
        "        # pca_features_final = pca_features_final / number_of_division\n",
        "\n",
        "        # just to concetenate\n",
        "\n",
        "        pca_features_final = pca_features_all[number_of_division - 1]\n",
        "        for i in range(number_of_division - 1):\n",
        "            pca_features_final = np.concatenate((pca_features_final, pca_features_all[i]), axis=1)\n",
        "\n",
        "        # print(\"final shape of pca \", pca_features_final.shape)\n",
        "\n",
        "        return pca_features_final\n",
        "\n",
        "    # bucket method\n",
        "    def PCA4Buckets(self, df, list_of_buckets, n_components, overlapping_percentage):\n",
        "\n",
        "            pca_features_all = []\n",
        "            for i in range(len(list_of_buckets)):\n",
        "                temp_df = df.iloc[:, list_of_buckets[i]]\n",
        "                pca = PCA(n_components=.95)\n",
        "                pca.fit(temp_df)\n",
        "                pca_features = pca.transform(temp_df)\n",
        "                pca_features_all.append(pca_features)\n",
        "\n",
        "            return pca_features_all\n",
        "\n",
        "    def performPCAonBuckets(self, df, number_of_division, n_components, overlapping_percentage):\n",
        "\n",
        "        big_bucket_size = df.shape[1]\n",
        "        list_of_buckets = []\n",
        "        for i in range(number_of_division):\n",
        "            list_of_buckets.append([])\n",
        "        global_list = []\n",
        "        count = 0\n",
        "\n",
        "        while( len(global_list) != big_bucket_size ):\n",
        "            count = count + 1\n",
        "            # print(\"sesh ki hobe--?----------------------------\", count, len(global_list))\n",
        "            picked_random_gene = np.random.randint(0, big_bucket_size)\n",
        "            picked_random_bucket = np.random.randint(0, number_of_division)\n",
        "            if (picked_random_gene in list_of_buckets[picked_random_bucket]):\n",
        "                continue\n",
        "            else:\n",
        "                list_of_buckets[picked_random_bucket].append(picked_random_gene)\n",
        "                if picked_random_gene not in global_list:\n",
        "                    global_list.append(picked_random_gene)\n",
        "\n",
        "\n",
        "        print(\"BUCKETS ARE FILLED----------------------\")\n",
        "\n",
        "        pca_features_all = self.PCA4Buckets(df, list_of_buckets, n_components, overlapping_percentage)\n",
        "\n",
        "        pca_features_final = pca_features_all[number_of_division - 1]\n",
        "        for i in range(number_of_division - 1):\n",
        "            pca_features_final = np.concatenate((pca_features_final, pca_features_all[i]), axis=1)\n",
        "\n",
        "        print(\"final shape of pca \", pca_features_final.shape)\n",
        "\n",
        "        return pca_features_final\n",
        "\n",
        "        return pca_features_all"
      ]
    },
    {
      "cell_type": "code",
      "execution_count": 7,
      "metadata": {
        "id": "xmghCJBOMUk3",
        "cellView": "form"
      },
      "outputs": [],
      "source": [
        "\n",
        "#@title Common class \"Models\" having common functions\n",
        "class Models:\n",
        "\n",
        "    def __init__(self, f_Tune, ground_truth, model_name):\n",
        "        self.f_Tune = f_Tune\n",
        "        self.ground_truth = ground_truth\n",
        "        self.model_name = model_name\n",
        "    def plot(self, pca_features_final, data_name, folder_name, number_of_division, ARI, labels):\n",
        "        print(\"ekhane ase????????????????????????????????????????????\")\n",
        "        # colors = [\"g.\", \"r.\", \"b.\", \"y.\"]\n",
        "        # checking\n",
        "        colors = [\"g.\", \"r.\", \"b.\", \"y.\", \"c.\", \"m.\", \"k.\", \"w.\", \"g.\", \"r.\", \"b.\", \"y.\", \"c.\", \"m.\", \"k.\", \"w.\", \"g.\", \"r.\", \"b.\", \"y.\"]\n",
        "        for i in range(len(pca_features_final)):\n",
        "            plt.plot(pca_features_final[i][0], pca_features_final[i][1], colors[labels[i]], markersize=10)\n",
        "        # plt.scatter(centroids[:,0], centroids[:,1], marker='x', s=150, linewidths=5)\n",
        "        plt.xlabel('principle component 1')\n",
        "        plt.ylabel('principle component 2')\n",
        "        # accuracy based on ARI\n",
        "\n",
        "        # create a folder\n",
        "        folder_path = f'/content/drive/MyDrive/Research/Bioinformatics/scRNAseq/datas/{data_name}/plot_{self.model_name}'\n",
        "        folder_path1 = f'/content/drive/MyDrive/Research/Bioinformatics/scRNAseq/datas/{data_name}/plot_{self.model_name}/pca_20'\n",
        "\n",
        "        if not os.path.exists(folder_path):\n",
        "            # Create the directory if it does not exist\n",
        "            os.mkdir(folder_path)\n",
        "\n",
        "        else:\n",
        "            print(\"Directory already exists.\")\n",
        "\n",
        "        if not os.path.exists(folder_path1):\n",
        "            print('++++++++++++++++++++++++++')\n",
        "            # Create the directory if it does not exist\n",
        "            os.mkdir(folder_path1)\n",
        "\n",
        "        else:\n",
        "            print('+-----------------------------')\n",
        "            print(\"Directory already exists.\")\n",
        "\n",
        "        plt.title(f'ARI = {ARI}')\n",
        "        # plt.plot()\n",
        "        plt.savefig(f'/content/drive/MyDrive/Research/Bioinformatics/scRNAseq/datas/{data_name}/plot_{self.model_name}/pca_20/division_{number_of_division}.png')\n",
        "        plt.show()\n",
        "        plt.clf()\n",
        "        plt.close()"
      ]
    },
    {
      "cell_type": "code",
      "execution_count": 8,
      "metadata": {
        "id": "EMCjY_qTi2ak",
        "cellView": "form"
      },
      "outputs": [],
      "source": [
        "#@title  Hierarchical clustering\n",
        "class Hierarchical_clustering(Models):\n",
        "\n",
        "    # def __init__(self, f_Tune, ground_truth):\n",
        "    #     self.f_Tune = f_Tune\n",
        "    #     self.ground_truth = ground_truth\n",
        "\n",
        "    def performClustering(self, pca_features_final, n_clusters):\n",
        "\n",
        "        hierarchical = AgglomerativeClustering(n_clusters=n_clusters)\n",
        "        labels = hierarchical.fit_predict(pca_features_final)\n",
        "\n",
        "        # print(f'label counts {len(self.labels)} --- ground_truth {len(self.ground_truth)}')\n",
        "        ARI = metrics.adjusted_rand_score(list(labels), ground_truth)\n",
        "        print(f'ari - {ARI}')\n",
        "\n",
        "        return ARI, labels"
      ]
    },
    {
      "cell_type": "code",
      "execution_count": 9,
      "metadata": {
        "id": "jQd3NeG0BI94",
        "cellView": "form"
      },
      "outputs": [],
      "source": [
        "#@title  Kmeans\n",
        "\n",
        "class KMEANS(Models):\n",
        "    # def __init__(self, f_Tune, ground_truth):\n",
        "    #     self.f_Tune = f_Tune\n",
        "    #     self.ground_truth = ground_truth\n",
        "\n",
        "    def performClustering(self, pca_features_final, n_clusters):\n",
        "\n",
        "        kmeans = KMeans(n_clusters=n_clusters)\n",
        "        kmeans.fit(pca_features_final)\n",
        "\n",
        "        print(pca_features_final.shape)\n",
        "\n",
        "        #get the centroids\n",
        "        centroids = kmeans.cluster_centers_\n",
        "        labels = kmeans.labels_\n",
        "        # print(f'label counts {len(self.labels)} --- ground_truth {len(self.ground_truth)}')\n",
        "        ARI = metrics.adjusted_rand_score(list(labels), ground_truth)\n",
        "        print(f'ari - {ARI}')\n",
        "\n",
        "        return ARI, labels"
      ]
    },
    {
      "cell_type": "code",
      "execution_count": 15,
      "metadata": {
        "id": "vhYWkY0i3ju7"
      },
      "outputs": [],
      "source": [
        "#@title  Data Info\n",
        "\n",
        "list_of_datas = ['yan', 'pollen', 'kolodziejczyk', 'intestine', 'goolam', 'fan', 'deng-rpkms']\n",
        "cluster_info = [2, 1, 1, 2, 1, 1, 1]\n",
        "\n",
        "# list_of_datas = ['intestine']\n",
        "# cluster_info = [2]\n",
        "\n",
        "\n",
        "# list_of_datas = ['GSE138852']\n",
        "# cluster_info = [8]"
      ]
    },
    {
      "cell_type": "code",
      "source": [
        "#@title number of clusters estimation by silhouette_score\n",
        "\n",
        "from sklearn.metrics import silhouette_score\n",
        "from sklearn.metrics import calinski_harabasz_score\n",
        "\n",
        "\n",
        "\n",
        "def silhouette_method(data):\n",
        "    silhouette_scores = []\n",
        "    for k in range(2, 15):\n",
        "        kmeans = KMeans(n_clusters=k, random_state=42).fit(data)\n",
        "        score = silhouette_score(data, kmeans.labels_)\n",
        "        silhouette_scores.append(score)\n",
        "\n",
        "    # return the index of max silhouette score\n",
        "    max_index = np.argmax(silhouette_scores)\n",
        "    return max_index + 2\n",
        "\n",
        "def calinski_harabasz_method(data):\n",
        "    cluster_range = range(2, 15)\n",
        "    ch_scores = []\n",
        "\n",
        "    # Calculate the CH Index for each number of clusters\n",
        "    for n_clusters in cluster_range:\n",
        "        kmeans = KMeans(n_clusters=n_clusters, random_state=42).fit(data)\n",
        "        labels = kmeans.labels_\n",
        "        ch_score = calinski_harabasz_score(data, labels)\n",
        "        ch_scores.append(ch_score)\n",
        "\n",
        "    max_index = np.argmax(ch_scores)\n",
        "    return max_index + 2\n",
        "\n",
        "# cluster_count = []\n",
        "# for ind in range(len(list_of_datas)):\n",
        "\n",
        "#     print(f'datasets --------------------------------------------------------------- {ind}')\n",
        "\n",
        "#     data_name = list_of_datas[ind]\n",
        "\n",
        "\n",
        "#     file_path_data = f'/content/drive/MyDrive/Research/Bioinformatics/scRNAseq/datas/{data_name}/{data_name}_data.csv'\n",
        "\n",
        "\n",
        "\n",
        "#     #####################\n",
        "#     df = Read_File(file_path_data).readFileRetDF()\n",
        "#     fTune = FineTune()\n",
        "#     df, num_of_genes = fTune.performTuning(df)\n",
        "\n",
        "#     cluster_count.append(calinski_harabasz_method(np.array(df)))\n",
        "\n",
        "# print(cluster_count)\n",
        "\n"
      ],
      "metadata": {
        "id": "QCzrbHcqfhKu",
        "cellView": "form"
      },
      "execution_count": null,
      "outputs": []
    },
    {
      "cell_type": "code",
      "execution_count": null,
      "metadata": {
        "id": "S1AZVRft4wbk",
        "cellView": "form"
      },
      "outputs": [],
      "source": [
        "#@title Generalized for all datasets for any type of clustering\n",
        "\n",
        "randomization = True\n",
        "n_components = 50\n",
        "model_name = \"KMEANS\"\n",
        "overlapping_percentage = 20\n",
        "data_vs_ARI_path = f'/content/drive/MyDrive/Research/Bioinformatics/scRNAseq/datas/{model_name}_{n_components}_random_ov{overlapping_percentage}_variance95(2).csv'\n",
        "# data_vs_ARI_path = f'/content/drive/MyDrive/Research/Bioinformatics/scRNAseq/datas/{model_name}_{n_components}.csv'\n",
        "output_in_csv = pd.DataFrame()\n",
        "\n",
        "\n",
        "\n",
        "# initialize output_in_csv with division\n",
        "division_no = []\n",
        "\n",
        "for i in range(1, 21, 1):\n",
        "    division_no.append(f'division {i}')\n",
        "\n",
        "output_in_csv[\"division no\"] = division_no\n",
        "\n",
        "\n",
        "for ind in range(len(list_of_datas)):\n",
        "\n",
        "    print(f'datasets --------------------------------------------------------------- {ind}')\n",
        "\n",
        "    data_name = list_of_datas[ind]\n",
        "    col_no_for_cluster_info = cluster_info[ind]\n",
        "    folder_name = \"plot_HI_cluster\"\n",
        "\n",
        "\n",
        "    file_path_data = f'/content/drive/MyDrive/Research/Bioinformatics/scRNAseq/datas/{data_name}/{data_name}_data.csv'\n",
        "    file_path_celldata = f'/content/drive/MyDrive/Research/Bioinformatics/scRNAseq/datas/{data_name}/{data_name}_celldata.csv'\n",
        "\n",
        "    # actual data count in each cluster\n",
        "    df = Read_File(file_path_celldata).readFileRetDF()\n",
        "    # column number whaere the cluster information stored(col_no_for_cluster_info)\n",
        "    lis = list(df.iloc[:, col_no_for_cluster_info])\n",
        "    # ground_truth = list(np.sort(list(dict(Counter(lis)).values())))\n",
        "\n",
        "    #number of cluster\n",
        "    n_cluster = len(list(np.sort(list(dict(Counter(lis)).values()))))\n",
        "    print(f'number of clusters {n_cluster}')\n",
        "\n",
        "    label_encoder = LabelEncoder()\n",
        "    ground_truth = label_encoder.fit_transform(lis)\n",
        "    print(len(ground_truth))\n",
        "\n",
        "    min_error = +100000000\n",
        "    final_division = -1\n",
        "    data_name = data_name\n",
        "\n",
        "    #####################\n",
        "    df = Read_File(file_path_data).readFileRetDF()\n",
        "    fTune = FineTune()\n",
        "    df, num_of_genes = fTune.performTuning(df)\n",
        "    if(randomization):\n",
        "        df = df[np.random.permutation(df.columns)]\n",
        "\n",
        "\n",
        "\n",
        "    list_ARI = []\n",
        "    # exploring different division on data\n",
        "    for i in range(1, 21, 1):\n",
        "\n",
        "      print(f'division --------------------------------------------------------------- {i}')\n",
        "\n",
        "      number_of_division = i\n",
        "      pca_features_final = fTune.performPCA(df, num_of_genes, n_components, number_of_division, overlapping_percentage)\n",
        "\n",
        "      km = KMEANS(fTune, ground_truth, model_name)\n",
        "      ARI, labels = km.performClustering(pca_features_final = pca_features_final, n_clusters = n_cluster)\n",
        "      #save the results\n",
        "      list_ARI.append(ARI)\n",
        "      # km.plot(pca_features_final = pca_features_final, data_name = data_name, folder_name = folder_name, number_of_division = number_of_division, ARI = ARI, labels = labels)\n",
        "\n",
        "    output_in_csv[data_name] = list_ARI\n",
        "\n",
        "output_in_csv.to_csv(data_vs_ARI_path, index = False)\n",
        "\n",
        "    #   if(km.error < min_error):\n",
        "    #       min_error = km.error\n",
        "    #       final_division = i\n",
        "\n",
        "    # print(\"final division\", final_division)"
      ]
    },
    {
      "cell_type": "code",
      "execution_count": null,
      "metadata": {
        "id": "Y77wOubhLxK3",
        "cellView": "form"
      },
      "outputs": [],
      "source": [
        "#@title sanity checking for treutlein data\n",
        "\n",
        "file_path_data = f'/content/drive/MyDrive/Research/Bioinformatics/scRNAseq/datas/goolam/goolam_data.csv'\n",
        "df = Read_File(file_path_data).readFileRetDF()\n",
        "fTune = FineTune()\n",
        "df, num_of_genes = fTune.performTuning(df)\n",
        "print(df.shape)"
      ]
    },
    {
      "cell_type": "code",
      "execution_count": null,
      "metadata": {
        "id": "ZXLjMuIgDN-a",
        "cellView": "form"
      },
      "outputs": [],
      "source": [
        "#@title Gene clustering approach for cell clustering\n",
        "randomization = False\n",
        "n_components = 50\n",
        "model_name = \"KMEANS\"\n",
        "overlapping_percentage = 20\n",
        "data_vs_ARI_path = f'/content/drive/MyDrive/Research/Bioinformatics/scRNAseq/datas/{model_name}_{n_components}_clusteringGene3.csv'\n",
        "# data_vs_ARI_path = f'/content/drive/MyDrive/Research/Bioinformatics/scRNAseq/datas/{model_name}_{n_components}.csv'\n",
        "output_in_csv = pd.DataFrame()\n",
        "\n",
        "# range_list = [0, 2939, 5825, 8353, 10000]\n",
        "\n",
        "# initialize output_in_csv with division\n",
        "division_no = []\n",
        "\n",
        "for i in range(1, 3, 1):\n",
        "    division_no.append(f'division {i}')\n",
        "\n",
        "output_in_csv[\"division no\"] = division_no\n",
        "\n",
        "\n",
        "for ind in range(len(list_of_datas)):\n",
        "\n",
        "    print(f'datasets --------------------------------------------------------------- {ind}')\n",
        "\n",
        "    data_name = list_of_datas[ind]\n",
        "    col_no_for_cluster_info = cluster_info[ind]\n",
        "    folder_name = \"plot_HI_cluster\"\n",
        "\n",
        "\n",
        "    file_path_data = f'/content/drive/MyDrive/Research/Bioinformatics/scRNAseq/datas/{data_name}/{data_name}_data.csv'\n",
        "    file_path_celldata = f'/content/drive/MyDrive/Research/Bioinformatics/scRNAseq/datas/{data_name}/{data_name}_celldata.csv'\n",
        "    file_path_geneCluster_data = f'/content/drive/MyDrive/Research/Bioinformatics/scRNAseq/datas/{data_name}/{data_name}_gene_cluster_data.csv'\n",
        "\n",
        "    # actual data count in each cluster\n",
        "    df = Read_File(file_path_celldata).readFileRetDF()\n",
        "    # column number whaere the cluster information stored(col_no_for_cluster_info)\n",
        "    lis = list(df.iloc[:, col_no_for_cluster_info])\n",
        "    # ground_truth = list(np.sort(list(dict(Counter(lis)).values())))\n",
        "\n",
        "    #number of cluster\n",
        "    n_cluster = len(list(np.sort(list(dict(Counter(lis)).values()))))\n",
        "    print(f'number of clusters {n_cluster}')\n",
        "\n",
        "    label_encoder = LabelEncoder()\n",
        "    ground_truth = label_encoder.fit_transform(lis)\n",
        "    print(len(ground_truth))\n",
        "\n",
        "    min_error = +100000000\n",
        "    final_division = -1\n",
        "    data_name = data_name\n",
        "\n",
        "\n",
        "    # read gene cluster data\n",
        "    df_geneCluster = pd.read_csv(file_path_geneCluster_data)\n",
        "\n",
        "    # read gene expression data\n",
        "    df = Read_File(file_path_data).readFileRetDF()\n",
        "    fTune = FineTune()\n",
        "    df, num_of_genes = fTune.performTuning(df)\n",
        "\n",
        "    print(\"shape after fine tune \", df.shape)\n",
        "\n",
        "    df = df.T\n",
        "\n",
        "    # df['cluster'] = df_geneCluster['cluster']\n",
        "    # for i in range(df.shape[0]):\n",
        "    #     df['cluster'].iloc[i] = int(df_geneCluster['cluster'].iloc[i])\n",
        "\n",
        "\n",
        "    print(\"shape after transpose \", df.shape)\n",
        "    # Calculate k nearest neighbors --------------------------------------\n",
        "    # print(\"calculating neighbors using KNN\")\n",
        "    k = (int)(np.sqrt(df.shape[0]) / 2)\n",
        "    nbrs = NearestNeighbors(n_neighbors=k).fit(df)\n",
        "    distances, indices = nbrs.kneighbors(df)\n",
        "    # print(\"making graphs using KNN\", indices.shape)\n",
        "    # --------------------------------------------------------\n",
        "\n",
        "    # graph creation-----------------------------------\n",
        "    G = nx.Graph()\n",
        "    for ii in range(len(df)):\n",
        "        for jj in range(len(indices[ii])):\n",
        "            if ii != indices[ii][jj] and distances[ii][jj] != 0:  # Avoid self-loops\n",
        "                weight = 1.0 / distances[ii][jj]  # Inverse of distance as edge weight\n",
        "                G.add_edge(ii, indices[ii][jj], weight=weight)\n",
        "\n",
        "    ig_graph = ig.Graph.from_networkx(G)\n",
        "    # ----------------------------------------------------------------------\n",
        "\n",
        "    # partition or clustering and saving the data ----------------------------\n",
        "    partition = leidenalg.find_partition(ig_graph, leidenalg.ModularityVertexPartition)\n",
        "\n",
        "    file_path_geneCluster_data = f'/content/drive/MyDrive/Research/Bioinformatics/scRNAseq/datas/{data_name}/{data_name}_gene_cluster_data.csv'\n",
        "    labels_of_genes = partition.membership\n",
        "    labels_of_genes_df = pd.DataFrame(labels_of_genes, columns=['cluster'])\n",
        "    labels_of_genes_df.to_csv(file_path_geneCluster_data, index = False)\n",
        "    df['cluster'] = labels_of_genes\n",
        "    # ----------------------------------------------------------------------\n",
        "\n",
        "    df.sort_values('cluster', inplace=True)\n",
        "\n",
        "    range_list = [0]\n",
        "    for ii in range(1, df.shape[0], 1):\n",
        "        if df['cluster'].iloc[ii] != df['cluster'].iloc[ii-1]:\n",
        "            range_list.append(ii)\n",
        "    range_list.append(df.shape[0])\n",
        "\n",
        "    print(\"range list00------------------------------\", range_list)\n",
        "\n",
        "    df.drop('cluster', axis=1, inplace=True)\n",
        "    df = df.T\n",
        "\n",
        "\n",
        "    list_ARI = []\n",
        "    # exploring different division on data\n",
        "    for i in range(1, 3, 1):\n",
        "\n",
        "      print(f'division --------------------------------------------------------------- {i}')\n",
        "\n",
        "      number_of_division = i\n",
        "      if i == 1:\n",
        "          pca_features_final = fTune.performPCA(df, num_of_genes, n_components, number_of_division, overlapping_percentage)\n",
        "      else:\n",
        "          pca_features_final = fTune.performPCAonClusterGene(df, range_list, n_components, overlapping_percentage)\n",
        "\n",
        "      km = KMEANS(fTune, ground_truth, model_name)\n",
        "      ARI, labels = km.performClustering(pca_features_final = pca_features_final, n_clusters = n_cluster)\n",
        "      #save the results\n",
        "      list_ARI.append(ARI)\n",
        "      # km.plot(pca_features_final = pca_features_final, data_name = data_name, folder_name = folder_name, number_of_division = number_of_division, ARI = ARI, labels = labels)\n",
        "\n",
        "    output_in_csv[data_name] = list_ARI\n",
        "\n",
        "output_in_csv.to_csv(data_vs_ARI_path, index = False)\n",
        "\n",
        "    #   if(km.error < min_error):\n",
        "    #       min_error = km.error\n",
        "    #       final_division = i\n",
        "\n",
        "    # print(\"final division\", final_division)"
      ]
    },
    {
      "cell_type": "code",
      "execution_count": null,
      "metadata": {
        "id": "A5MqMFCHQNG2",
        "cellView": "form"
      },
      "outputs": [],
      "source": [
        "#@title Generalized for all datasets for any type of clustering - WITH AUTOENCODER\n",
        "\n",
        "randomization = True\n",
        "n_components = 50\n",
        "model_name = \"KMEANS\"\n",
        "overlapping_percentage = 20\n",
        "data_vs_ARI_path = f'/content/drive/MyDrive/Research/Bioinformatics/scRNAseq/datas/{model_name}_{n_components}_random_ov{overlapping_percentage}_Encoder3.csv'\n",
        "# data_vs_ARI_path = f'/content/drive/MyDrive/Research/Bioinformatics/scRNAseq/datas/{model_name}_{n_components}.csv'\n",
        "output_in_csv = pd.DataFrame()\n",
        "\n",
        "\n",
        "# initialize output_in_csv with division\n",
        "division_no = []\n",
        "\n",
        "for i in range(1, 21, 1):\n",
        "    division_no.append(f'division {i}')\n",
        "\n",
        "output_in_csv[\"division no\"] = division_no\n",
        "\n",
        "\n",
        "for ind in range(len(list_of_datas)):\n",
        "\n",
        "    print(f'datasets --------------------------------------------------------------- {ind}')\n",
        "\n",
        "    data_name = list_of_datas[ind]\n",
        "    col_no_for_cluster_info = cluster_info[ind]\n",
        "    folder_name = \"plot_HI_cluster\"\n",
        "\n",
        "\n",
        "    file_path_data = f'/content/drive/MyDrive/Research/Bioinformatics/scRNAseq/datas/{data_name}/{data_name}_data.csv'\n",
        "    file_path_celldata = f'/content/drive/MyDrive/Research/Bioinformatics/scRNAseq/datas/{data_name}/{data_name}_celldata.csv'\n",
        "\n",
        "    # actual data count in each cluster\n",
        "    df = Read_File(file_path_celldata).readFileRetDF()\n",
        "    # column number whaere the cluster information stored(col_no_for_cluster_info)\n",
        "    lis = list(df.iloc[:, col_no_for_cluster_info])\n",
        "    # ground_truth = list(np.sort(list(dict(Counter(lis)).values())))\n",
        "\n",
        "    #number of cluster\n",
        "    n_cluster = len(list(np.sort(list(dict(Counter(lis)).values()))))\n",
        "    print(f'number of clusters {n_cluster}')\n",
        "\n",
        "    label_encoder = LabelEncoder()\n",
        "    ground_truth = label_encoder.fit_transform(lis)\n",
        "    print(len(ground_truth))\n",
        "\n",
        "    min_error = +100000000\n",
        "    final_division = -1\n",
        "    data_name = data_name\n",
        "\n",
        "    #####################\n",
        "    df = Read_File(file_path_data).readFileRetDF()\n",
        "    fTune = FineTune()\n",
        "    df, num_of_genes = fTune.performTuning(df)\n",
        "    if(randomization):\n",
        "        df = df[np.random.permutation(df.columns)]\n",
        "\n",
        "\n",
        "\n",
        "    list_ARI = []\n",
        "    # exploring different division on data\n",
        "    for i in range(1, 21, 1):\n",
        "\n",
        "      print(f'division --------------------------------------------------------------- {i}')\n",
        "\n",
        "      number_of_division = i\n",
        "      pca_features_final = fTune.performEncoding(df, num_of_genes, n_components, number_of_division, overlapping_percentage)\n",
        "\n",
        "      km = KMEANS(fTune, ground_truth, model_name)\n",
        "      ARI, labels = km.performClustering(pca_features_final = pca_features_final, n_clusters = n_cluster)\n",
        "      #save the results\n",
        "      list_ARI.append(ARI)\n",
        "      # km.plot(pca_features_final = pca_features_final, data_name = data_name, folder_name = folder_name, number_of_division = number_of_division, ARI = ARI, labels = labels)\n",
        "\n",
        "    output_in_csv[data_name] = list_ARI\n",
        "\n",
        "output_in_csv.to_csv(data_vs_ARI_path, index = False)\n",
        "\n",
        "    #   if(km.error < min_error):\n",
        "    #       min_error = km.error\n",
        "    #       final_division = i\n",
        "\n",
        "    # print(\"final division\", final_division)"
      ]
    },
    {
      "cell_type": "code",
      "source": [
        "#@title data imputing with autoencoder and then clustering\n",
        "\n",
        "randomization = False\n",
        "n_components = 32\n",
        "model_name = \"KMEANS\"\n",
        "overlapping_percentage = 20\n",
        "data_vs_ARI_path = f'/content/drive/MyDrive/Research/Bioinformatics/scRNAseq/datas/final_data/dump/bucket1.csv'\n",
        "# data_vs_ARI_path = f'/content/drive/MyDrive/Research/Bioinformatics/scRNAseq/datas/{model_name}_{n_components}.csv'\n",
        "output_in_csv = pd.DataFrame()\n",
        "n_components_list = [50]\n",
        "\n",
        "# range_list = [0, 2939, 5825, 8353, 10000]\n",
        "\n",
        "# initialize output_in_csv with division\n",
        "division_no = []\n",
        "\n",
        "for i in range(1, 21, 1):\n",
        "    division_no.append(f'division {i}')\n",
        "\n",
        "output_in_csv[\"division no\"] = division_no\n",
        "\n",
        "\n",
        "for ind in range(len(list_of_datas)):\n",
        "\n",
        "    print(f'datasets --------------------------------------------------------------- {ind}')\n",
        "\n",
        "    data_name = list_of_datas[ind]\n",
        "    col_no_for_cluster_info = cluster_info[ind]\n",
        "    folder_name = \"plot_HI_cluster\"\n",
        "\n",
        "\n",
        "    file_path_data = f'/content/drive/MyDrive/Research/Bioinformatics/scRNAseq/datas/{data_name}/{data_name}_data.csv'\n",
        "    file_path_celldata = f'/content/drive/MyDrive/Research/Bioinformatics/scRNAseq/datas/{data_name}/{data_name}_celldata.csv'\n",
        "\n",
        "    # actual data count in each cluster\n",
        "    df = Read_File(file_path_celldata).readFileRetDF()\n",
        "    # column number whaere the cluster information stored(col_no_for_cluster_info)\n",
        "    lis = list(df.iloc[:, col_no_for_cluster_info])\n",
        "    # ground_truth = list(np.sort(list(dict(Counter(lis)).values())))\n",
        "\n",
        "    #number of cluster\n",
        "    n_cluster = len(list(np.sort(list(dict(Counter(lis)).values()))))\n",
        "    # print(f'number of clusters {n_cluster}')\n",
        "\n",
        "    label_encoder = LabelEncoder()\n",
        "    ground_truth = label_encoder.fit_transform(lis)\n",
        "    print(len(ground_truth))\n",
        "\n",
        "    min_error = +100000000\n",
        "    final_division = -1\n",
        "    data_name = data_name\n",
        "\n",
        "    #####################\n",
        "    df = Read_File(file_path_data).readFileRetDF()\n",
        "    fTune = FineTune()\n",
        "    df, num_of_genes = fTune.performTuning(df)\n",
        "    if(randomization):\n",
        "        df = df[np.random.permutation(df.columns)]\n",
        "\n",
        "    # df.to_csv(f'/content/drive/MyDrive/Research/Bioinformatics/scRNAseq/datas/intestine/intestine_cell_gene.csv', index = False)\n",
        "\n",
        "    decoded_data_whole = np.zeros((df.shape[0],df.shape[1]))\n",
        "\n",
        "    df_np = np.array(df)\n",
        "    df_imputed = df.copy()\n",
        "    # imputing data\n",
        "    for n_comp in n_components_list:\n",
        "        autoencoder = AutoEncoder(df.shape[1], n_comp)\n",
        "        noised_data = autoencoder.add_noise(np.array(df.copy()))\n",
        "        decoded_data = autoencoder.performDecoding(noised_data, np.array(df.copy()))\n",
        "        decoded_data_whole = decoded_data_whole + decoded_data\n",
        "\n",
        "    decoded_data_whole = decoded_data_whole/len(n_components_list)\n",
        "    # df_np = df.to_numpy()\n",
        "    df_imputed_np = df_imputed.to_numpy()\n",
        "\n",
        "    df_imputed_np = np.where(df_imputed_np == 0, decoded_data_whole, df_imputed_np)\n",
        "\n",
        "    # number of clusters\n",
        "    # n_cluster = calinski_harabasz_method(df_imputed_np)\n",
        "    print(\"number of clusters = \", n_cluster)\n",
        "    # number of zeroes count\n",
        "    print('number of values in 0:1 range in original -- ', np.count_nonzero(df_np == 0))\n",
        "    print('number of values in 0:1 range in imputed data -- ', np.count_nonzero((df_imputed_np == 0)))\n",
        "\n",
        "    df_imputed = pd.DataFrame(df_imputed_np)\n",
        "\n",
        "    # print('number of zeroes in teh original data -- ', df.isin([0]).sum().sum())\n",
        "    # print('number of zeroes in the imputed data --', df_imputed.isin([0]).sum().sum())\n",
        "\n",
        "    # for itr in range(df.shape[0]):\n",
        "    #     for itr1 in range(df.shape[1]):\n",
        "    #         if(df_imputed.iloc[itr, itr1] == 0):\n",
        "    #             df_imputed.iloc[itr, itr1] = decoded_data[itr, itr1]\n",
        "\n",
        "    list_ARI = []\n",
        "    list_ARI_imputed = []\n",
        "    # list_ARI_decoded = []\n",
        "    # exploring different division on data\n",
        "    for i in range(1, 21, 1):\n",
        "\n",
        "      print(f'division --------------------------------------------------------------- {i}')\n",
        "\n",
        "      number_of_division = i\n",
        "\n",
        "      # pca_features_final = fTune.performPCA(df, num_of_genes, n_components, number_of_division, overlapping_percentage)\n",
        "      # pca_features_final = fTune.performEncoding(df, num_of_genes, n_components, number_of_division, overlapping_percentage)\n",
        "      pca_features_final = fTune.performPCAonBuckets(df, number_of_division, n_components, overlapping_percentage)\n",
        "      km = KMEANS(fTune, ground_truth, model_name)\n",
        "      ARI, labels = km.performClustering(pca_features_final = pca_features_final, n_clusters = n_cluster)\n",
        "      list_ARI.append(ARI)\n",
        "\n",
        "      # for the whole imputed data\n",
        "\n",
        "      # pca_features_final = fTune.performPCA(df_imputed, num_of_genes, n_components, number_of_division, overlapping_percentage)\n",
        "      # pca_features_final = fTune.performEncoding(df_imputed, num_of_genes, n_components, number_of_division, overlapping_percentage)\n",
        "      pca_features_final = fTune.performPCAonBuckets(df, number_of_division, n_components, overlapping_percentage)\n",
        "      km = KMEANS(fTune, ground_truth, model_name)\n",
        "      ARI, labels = km.performClustering(pca_features_final = pca_features_final, n_clusters = n_cluster)\n",
        "      list_ARI_imputed.append(ARI)\n",
        "\n",
        "      # for the whole decocded data\n",
        "\n",
        "      # pca_features_final = fTune.performPCA(pd.DataFrame(decoded_data), num_of_genes, n_components, number_of_division, overlapping_percentage)\n",
        "      # km = KMEANS(fTune, ground_truth, model_name)\n",
        "      # ARI, labels = km.performClustering(pca_features_final = pca_features_final, n_clusters = n_cluster)\n",
        "      # list_ARI_decoded.append(ARI)\n",
        "\n",
        "\n",
        "      # km.plot(pca_features_final = pca_features_final, data_name = data_name, folder_name = folder_name, number_of_division = number_of_division, ARI = ARI, labels = labels)\n",
        "\n",
        "    output_in_csv[data_name] = list_ARI\n",
        "    output_in_csv[f'{data_name}_imputed'] = list_ARI_imputed\n",
        "    # output_in_csv[f'{data_name}_decoded'] = list_ARI_decoded\n",
        "\n",
        "output_in_csv.to_csv(data_vs_ARI_path, index = False)\n",
        "\n",
        "    #   if(km.error < min_error):\n",
        "    #       min_error = km.error\n",
        "    #       final_division = i\n",
        "\n",
        "    # print(\"final division\", final_division)"
      ],
      "metadata": {
        "colab": {
          "base_uri": "https://localhost:8080/"
        },
        "id": "PT6LhfitJb_P",
        "outputId": "c0d0d296-c56a-4007-a73e-6c2fd404e788"
      },
      "execution_count": null,
      "outputs": [
        {
          "output_type": "stream",
          "name": "stdout",
          "text": [
            "datasets --------------------------------------------------------------- 0\n",
            "90\n"
          ]
        },
        {
          "output_type": "stream",
          "name": "stderr",
          "text": [
            "/usr/local/lib/python3.10/dist-packages/anndata/_core/aligned_df.py:67: ImplicitModificationWarning: Transforming to str index.\n",
            "  warnings.warn(\"Transforming to str index.\", ImplicitModificationWarning)\n",
            "/usr/local/lib/python3.10/dist-packages/anndata/_core/aligned_df.py:67: ImplicitModificationWarning: Transforming to str index.\n",
            "  warnings.warn(\"Transforming to str index.\", ImplicitModificationWarning)\n"
          ]
        },
        {
          "output_type": "stream",
          "name": "stdout",
          "text": [
            "highly variable genes (90, 10000)\n",
            "----------------------\n",
            "----------------------\n",
            "number of clusters =  7\n",
            "number of values in 0:1 range in original --  222691\n",
            "number of values in 0:1 range in imputed data --  0\n",
            "division --------------------------------------------------------------- 1\n",
            "BUCKETS ARE FILLED----------------------\n",
            "final shape of pca  (90, 16)\n",
            "(90, 16)\n",
            "ari - 0.5372539216036402\n"
          ]
        },
        {
          "output_type": "stream",
          "name": "stderr",
          "text": [
            "/usr/local/lib/python3.10/dist-packages/sklearn/cluster/_kmeans.py:870: FutureWarning: The default value of `n_init` will change from 10 to 'auto' in 1.4. Set the value of `n_init` explicitly to suppress the warning\n",
            "  warnings.warn(\n"
          ]
        },
        {
          "output_type": "stream",
          "name": "stdout",
          "text": [
            "BUCKETS ARE FILLED----------------------\n",
            "final shape of pca  (90, 16)\n",
            "(90, 16)\n",
            "ari - 0.6612969734621623\n",
            "division --------------------------------------------------------------- 2\n"
          ]
        },
        {
          "output_type": "stream",
          "name": "stderr",
          "text": [
            "/usr/local/lib/python3.10/dist-packages/sklearn/cluster/_kmeans.py:870: FutureWarning: The default value of `n_init` will change from 10 to 'auto' in 1.4. Set the value of `n_init` explicitly to suppress the warning\n",
            "  warnings.warn(\n"
          ]
        },
        {
          "output_type": "stream",
          "name": "stdout",
          "text": [
            "BUCKETS ARE FILLED----------------------\n",
            "final shape of pca  (90, 32)\n",
            "(90, 32)\n",
            "ari - 0.523686953507871\n"
          ]
        },
        {
          "output_type": "stream",
          "name": "stderr",
          "text": [
            "/usr/local/lib/python3.10/dist-packages/sklearn/cluster/_kmeans.py:870: FutureWarning: The default value of `n_init` will change from 10 to 'auto' in 1.4. Set the value of `n_init` explicitly to suppress the warning\n",
            "  warnings.warn(\n"
          ]
        },
        {
          "output_type": "stream",
          "name": "stdout",
          "text": [
            "BUCKETS ARE FILLED----------------------\n",
            "final shape of pca  (90, 32)\n",
            "(90, 32)\n",
            "ari - 0.5372539216036402\n",
            "division --------------------------------------------------------------- 3\n"
          ]
        },
        {
          "output_type": "stream",
          "name": "stderr",
          "text": [
            "/usr/local/lib/python3.10/dist-packages/sklearn/cluster/_kmeans.py:870: FutureWarning: The default value of `n_init` will change from 10 to 'auto' in 1.4. Set the value of `n_init` explicitly to suppress the warning\n",
            "  warnings.warn(\n"
          ]
        },
        {
          "output_type": "stream",
          "name": "stdout",
          "text": [
            "BUCKETS ARE FILLED----------------------\n",
            "final shape of pca  (90, 48)\n",
            "(90, 48)\n",
            "ari - 0.670061919749042\n"
          ]
        },
        {
          "output_type": "stream",
          "name": "stderr",
          "text": [
            "/usr/local/lib/python3.10/dist-packages/sklearn/cluster/_kmeans.py:870: FutureWarning: The default value of `n_init` will change from 10 to 'auto' in 1.4. Set the value of `n_init` explicitly to suppress the warning\n",
            "  warnings.warn(\n"
          ]
        },
        {
          "output_type": "stream",
          "name": "stdout",
          "text": [
            "BUCKETS ARE FILLED----------------------\n",
            "final shape of pca  (90, 48)\n",
            "(90, 48)\n",
            "ari - 0.5457056280281869\n",
            "division --------------------------------------------------------------- 4\n"
          ]
        },
        {
          "output_type": "stream",
          "name": "stderr",
          "text": [
            "/usr/local/lib/python3.10/dist-packages/sklearn/cluster/_kmeans.py:870: FutureWarning: The default value of `n_init` will change from 10 to 'auto' in 1.4. Set the value of `n_init` explicitly to suppress the warning\n",
            "  warnings.warn(\n"
          ]
        },
        {
          "output_type": "stream",
          "name": "stdout",
          "text": [
            "BUCKETS ARE FILLED----------------------\n",
            "final shape of pca  (90, 60)\n",
            "(90, 60)\n",
            "ari - 0.523686953507871\n"
          ]
        },
        {
          "output_type": "stream",
          "name": "stderr",
          "text": [
            "/usr/local/lib/python3.10/dist-packages/sklearn/cluster/_kmeans.py:870: FutureWarning: The default value of `n_init` will change from 10 to 'auto' in 1.4. Set the value of `n_init` explicitly to suppress the warning\n",
            "  warnings.warn(\n"
          ]
        },
        {
          "output_type": "stream",
          "name": "stdout",
          "text": [
            "BUCKETS ARE FILLED----------------------\n",
            "final shape of pca  (90, 62)\n",
            "(90, 62)\n",
            "ari - 0.5372539216036402\n",
            "division --------------------------------------------------------------- 5\n"
          ]
        },
        {
          "output_type": "stream",
          "name": "stderr",
          "text": [
            "/usr/local/lib/python3.10/dist-packages/sklearn/cluster/_kmeans.py:870: FutureWarning: The default value of `n_init` will change from 10 to 'auto' in 1.4. Set the value of `n_init` explicitly to suppress the warning\n",
            "  warnings.warn(\n"
          ]
        },
        {
          "output_type": "stream",
          "name": "stdout",
          "text": [
            "BUCKETS ARE FILLED----------------------\n",
            "final shape of pca  (90, 78)\n",
            "(90, 78)\n",
            "ari - 0.523686953507871\n"
          ]
        },
        {
          "output_type": "stream",
          "name": "stderr",
          "text": [
            "/usr/local/lib/python3.10/dist-packages/sklearn/cluster/_kmeans.py:870: FutureWarning: The default value of `n_init` will change from 10 to 'auto' in 1.4. Set the value of `n_init` explicitly to suppress the warning\n",
            "  warnings.warn(\n"
          ]
        },
        {
          "output_type": "stream",
          "name": "stdout",
          "text": [
            "BUCKETS ARE FILLED----------------------\n",
            "final shape of pca  (90, 81)\n",
            "(90, 81)\n",
            "ari - 0.5081216390828027\n",
            "division --------------------------------------------------------------- 6\n"
          ]
        },
        {
          "output_type": "stream",
          "name": "stderr",
          "text": [
            "/usr/local/lib/python3.10/dist-packages/sklearn/cluster/_kmeans.py:870: FutureWarning: The default value of `n_init` will change from 10 to 'auto' in 1.4. Set the value of `n_init` explicitly to suppress the warning\n",
            "  warnings.warn(\n"
          ]
        },
        {
          "output_type": "stream",
          "name": "stdout",
          "text": [
            "BUCKETS ARE FILLED----------------------\n",
            "final shape of pca  (90, 90)\n",
            "(90, 90)\n",
            "ari - 0.5589060947333554\n"
          ]
        },
        {
          "output_type": "stream",
          "name": "stderr",
          "text": [
            "/usr/local/lib/python3.10/dist-packages/sklearn/cluster/_kmeans.py:870: FutureWarning: The default value of `n_init` will change from 10 to 'auto' in 1.4. Set the value of `n_init` explicitly to suppress the warning\n",
            "  warnings.warn(\n"
          ]
        },
        {
          "output_type": "stream",
          "name": "stdout",
          "text": [
            "BUCKETS ARE FILLED----------------------\n",
            "final shape of pca  (90, 94)\n",
            "(90, 94)\n",
            "ari - 0.5372539216036402\n",
            "division --------------------------------------------------------------- 7\n"
          ]
        },
        {
          "output_type": "stream",
          "name": "stderr",
          "text": [
            "/usr/local/lib/python3.10/dist-packages/sklearn/cluster/_kmeans.py:870: FutureWarning: The default value of `n_init` will change from 10 to 'auto' in 1.4. Set the value of `n_init` explicitly to suppress the warning\n",
            "  warnings.warn(\n"
          ]
        },
        {
          "output_type": "stream",
          "name": "stdout",
          "text": [
            "BUCKETS ARE FILLED----------------------\n",
            "final shape of pca  (90, 107)\n",
            "(90, 107)\n",
            "ari - 0.6413209680367593\n"
          ]
        },
        {
          "output_type": "stream",
          "name": "stderr",
          "text": [
            "/usr/local/lib/python3.10/dist-packages/sklearn/cluster/_kmeans.py:870: FutureWarning: The default value of `n_init` will change from 10 to 'auto' in 1.4. Set the value of `n_init` explicitly to suppress the warning\n",
            "  warnings.warn(\n"
          ]
        },
        {
          "output_type": "stream",
          "name": "stdout",
          "text": [
            "BUCKETS ARE FILLED----------------------\n",
            "final shape of pca  (90, 109)\n",
            "(90, 109)\n",
            "ari - 0.5178413372355253\n",
            "division --------------------------------------------------------------- 8\n"
          ]
        },
        {
          "output_type": "stream",
          "name": "stderr",
          "text": [
            "/usr/local/lib/python3.10/dist-packages/sklearn/cluster/_kmeans.py:870: FutureWarning: The default value of `n_init` will change from 10 to 'auto' in 1.4. Set the value of `n_init` explicitly to suppress the warning\n",
            "  warnings.warn(\n"
          ]
        },
        {
          "output_type": "stream",
          "name": "stdout",
          "text": [
            "BUCKETS ARE FILLED----------------------\n",
            "final shape of pca  (90, 122)\n",
            "(90, 122)\n",
            "ari - 0.523686953507871\n"
          ]
        },
        {
          "output_type": "stream",
          "name": "stderr",
          "text": [
            "/usr/local/lib/python3.10/dist-packages/sklearn/cluster/_kmeans.py:870: FutureWarning: The default value of `n_init` will change from 10 to 'auto' in 1.4. Set the value of `n_init` explicitly to suppress the warning\n",
            "  warnings.warn(\n"
          ]
        },
        {
          "output_type": "stream",
          "name": "stdout",
          "text": [
            "BUCKETS ARE FILLED----------------------\n",
            "final shape of pca  (90, 119)\n",
            "(90, 119)\n",
            "ari - 0.681488859316709\n",
            "division --------------------------------------------------------------- 9\n"
          ]
        },
        {
          "output_type": "stream",
          "name": "stderr",
          "text": [
            "/usr/local/lib/python3.10/dist-packages/sklearn/cluster/_kmeans.py:870: FutureWarning: The default value of `n_init` will change from 10 to 'auto' in 1.4. Set the value of `n_init` explicitly to suppress the warning\n",
            "  warnings.warn(\n"
          ]
        },
        {
          "output_type": "stream",
          "name": "stdout",
          "text": [
            "BUCKETS ARE FILLED----------------------\n",
            "final shape of pca  (90, 130)\n",
            "(90, 130)\n",
            "ari - 0.5725841440333559\n"
          ]
        },
        {
          "output_type": "stream",
          "name": "stderr",
          "text": [
            "/usr/local/lib/python3.10/dist-packages/sklearn/cluster/_kmeans.py:870: FutureWarning: The default value of `n_init` will change from 10 to 'auto' in 1.4. Set the value of `n_init` explicitly to suppress the warning\n",
            "  warnings.warn(\n"
          ]
        },
        {
          "output_type": "stream",
          "name": "stdout",
          "text": [
            "BUCKETS ARE FILLED----------------------\n",
            "final shape of pca  (90, 129)\n",
            "(90, 129)\n",
            "ari - 0.5372539216036402\n",
            "division --------------------------------------------------------------- 10\n"
          ]
        },
        {
          "output_type": "stream",
          "name": "stderr",
          "text": [
            "/usr/local/lib/python3.10/dist-packages/sklearn/cluster/_kmeans.py:870: FutureWarning: The default value of `n_init` will change from 10 to 'auto' in 1.4. Set the value of `n_init` explicitly to suppress the warning\n",
            "  warnings.warn(\n"
          ]
        },
        {
          "output_type": "stream",
          "name": "stdout",
          "text": [
            "BUCKETS ARE FILLED----------------------\n",
            "final shape of pca  (90, 149)\n",
            "(90, 149)\n",
            "ari - 0.49281086855390344\n"
          ]
        },
        {
          "output_type": "stream",
          "name": "stderr",
          "text": [
            "/usr/local/lib/python3.10/dist-packages/sklearn/cluster/_kmeans.py:870: FutureWarning: The default value of `n_init` will change from 10 to 'auto' in 1.4. Set the value of `n_init` explicitly to suppress the warning\n",
            "  warnings.warn(\n"
          ]
        },
        {
          "output_type": "stream",
          "name": "stdout",
          "text": [
            "BUCKETS ARE FILLED----------------------\n",
            "final shape of pca  (90, 141)\n",
            "(90, 141)\n",
            "ari - 0.523686953507871\n",
            "division --------------------------------------------------------------- 11\n"
          ]
        },
        {
          "output_type": "stream",
          "name": "stderr",
          "text": [
            "/usr/local/lib/python3.10/dist-packages/sklearn/cluster/_kmeans.py:870: FutureWarning: The default value of `n_init` will change from 10 to 'auto' in 1.4. Set the value of `n_init` explicitly to suppress the warning\n",
            "  warnings.warn(\n"
          ]
        },
        {
          "output_type": "stream",
          "name": "stdout",
          "text": [
            "BUCKETS ARE FILLED----------------------\n",
            "final shape of pca  (90, 162)\n",
            "(90, 162)\n",
            "ari - 0.523686953507871\n"
          ]
        },
        {
          "output_type": "stream",
          "name": "stderr",
          "text": [
            "/usr/local/lib/python3.10/dist-packages/sklearn/cluster/_kmeans.py:870: FutureWarning: The default value of `n_init` will change from 10 to 'auto' in 1.4. Set the value of `n_init` explicitly to suppress the warning\n",
            "  warnings.warn(\n"
          ]
        },
        {
          "output_type": "stream",
          "name": "stdout",
          "text": [
            "BUCKETS ARE FILLED----------------------\n",
            "final shape of pca  (90, 146)\n",
            "(90, 146)\n",
            "ari - 0.523686953507871\n",
            "division --------------------------------------------------------------- 12\n"
          ]
        },
        {
          "output_type": "stream",
          "name": "stderr",
          "text": [
            "/usr/local/lib/python3.10/dist-packages/sklearn/cluster/_kmeans.py:870: FutureWarning: The default value of `n_init` will change from 10 to 'auto' in 1.4. Set the value of `n_init` explicitly to suppress the warning\n",
            "  warnings.warn(\n"
          ]
        },
        {
          "output_type": "stream",
          "name": "stdout",
          "text": [
            "BUCKETS ARE FILLED----------------------\n",
            "final shape of pca  (90, 159)\n",
            "(90, 159)\n",
            "ari - 0.657063850041932\n"
          ]
        },
        {
          "output_type": "stream",
          "name": "stderr",
          "text": [
            "/usr/local/lib/python3.10/dist-packages/sklearn/cluster/_kmeans.py:870: FutureWarning: The default value of `n_init` will change from 10 to 'auto' in 1.4. Set the value of `n_init` explicitly to suppress the warning\n",
            "  warnings.warn(\n"
          ]
        },
        {
          "output_type": "stream",
          "name": "stdout",
          "text": [
            "BUCKETS ARE FILLED----------------------\n",
            "final shape of pca  (90, 163)\n",
            "(90, 163)\n",
            "ari - 0.670061919749042\n",
            "division --------------------------------------------------------------- 13\n"
          ]
        },
        {
          "output_type": "stream",
          "name": "stderr",
          "text": [
            "/usr/local/lib/python3.10/dist-packages/sklearn/cluster/_kmeans.py:870: FutureWarning: The default value of `n_init` will change from 10 to 'auto' in 1.4. Set the value of `n_init` explicitly to suppress the warning\n",
            "  warnings.warn(\n"
          ]
        },
        {
          "output_type": "stream",
          "name": "stdout",
          "text": [
            "BUCKETS ARE FILLED----------------------\n",
            "final shape of pca  (90, 190)\n",
            "(90, 190)\n",
            "ari - 0.49281086855390344\n"
          ]
        },
        {
          "output_type": "stream",
          "name": "stderr",
          "text": [
            "/usr/local/lib/python3.10/dist-packages/sklearn/cluster/_kmeans.py:870: FutureWarning: The default value of `n_init` will change from 10 to 'auto' in 1.4. Set the value of `n_init` explicitly to suppress the warning\n",
            "  warnings.warn(\n"
          ]
        },
        {
          "output_type": "stream",
          "name": "stdout",
          "text": [
            "BUCKETS ARE FILLED----------------------\n",
            "final shape of pca  (90, 189)\n",
            "(90, 189)\n",
            "ari - 0.5265117928710764\n",
            "division --------------------------------------------------------------- 14\n"
          ]
        },
        {
          "output_type": "stream",
          "name": "stderr",
          "text": [
            "/usr/local/lib/python3.10/dist-packages/sklearn/cluster/_kmeans.py:870: FutureWarning: The default value of `n_init` will change from 10 to 'auto' in 1.4. Set the value of `n_init` explicitly to suppress the warning\n",
            "  warnings.warn(\n"
          ]
        },
        {
          "output_type": "stream",
          "name": "stdout",
          "text": [
            "BUCKETS ARE FILLED----------------------\n",
            "final shape of pca  (90, 212)\n",
            "(90, 212)\n",
            "ari - 0.5589060947333554\n"
          ]
        },
        {
          "output_type": "stream",
          "name": "stderr",
          "text": [
            "/usr/local/lib/python3.10/dist-packages/sklearn/cluster/_kmeans.py:870: FutureWarning: The default value of `n_init` will change from 10 to 'auto' in 1.4. Set the value of `n_init` explicitly to suppress the warning\n",
            "  warnings.warn(\n"
          ]
        },
        {
          "output_type": "stream",
          "name": "stdout",
          "text": [
            "BUCKETS ARE FILLED----------------------\n",
            "final shape of pca  (90, 192)\n",
            "(90, 192)\n",
            "ari - 0.523686953507871\n",
            "division --------------------------------------------------------------- 15\n"
          ]
        },
        {
          "output_type": "stream",
          "name": "stderr",
          "text": [
            "/usr/local/lib/python3.10/dist-packages/sklearn/cluster/_kmeans.py:870: FutureWarning: The default value of `n_init` will change from 10 to 'auto' in 1.4. Set the value of `n_init` explicitly to suppress the warning\n",
            "  warnings.warn(\n"
          ]
        },
        {
          "output_type": "stream",
          "name": "stdout",
          "text": [
            "BUCKETS ARE FILLED----------------------\n",
            "final shape of pca  (90, 187)\n",
            "(90, 187)\n",
            "ari - 0.670061919749042\n"
          ]
        },
        {
          "output_type": "stream",
          "name": "stderr",
          "text": [
            "/usr/local/lib/python3.10/dist-packages/sklearn/cluster/_kmeans.py:870: FutureWarning: The default value of `n_init` will change from 10 to 'auto' in 1.4. Set the value of `n_init` explicitly to suppress the warning\n",
            "  warnings.warn(\n"
          ]
        },
        {
          "output_type": "stream",
          "name": "stdout",
          "text": [
            "BUCKETS ARE FILLED----------------------\n",
            "final shape of pca  (90, 205)\n",
            "(90, 205)\n",
            "ari - 0.523686953507871\n",
            "division --------------------------------------------------------------- 16\n"
          ]
        },
        {
          "output_type": "stream",
          "name": "stderr",
          "text": [
            "/usr/local/lib/python3.10/dist-packages/sklearn/cluster/_kmeans.py:870: FutureWarning: The default value of `n_init` will change from 10 to 'auto' in 1.4. Set the value of `n_init` explicitly to suppress the warning\n",
            "  warnings.warn(\n"
          ]
        },
        {
          "output_type": "stream",
          "name": "stdout",
          "text": [
            "BUCKETS ARE FILLED----------------------\n",
            "final shape of pca  (90, 227)\n",
            "(90, 227)\n",
            "ari - 0.681488859316709\n"
          ]
        },
        {
          "output_type": "stream",
          "name": "stderr",
          "text": [
            "/usr/local/lib/python3.10/dist-packages/sklearn/cluster/_kmeans.py:870: FutureWarning: The default value of `n_init` will change from 10 to 'auto' in 1.4. Set the value of `n_init` explicitly to suppress the warning\n",
            "  warnings.warn(\n"
          ]
        },
        {
          "output_type": "stream",
          "name": "stdout",
          "text": [
            "BUCKETS ARE FILLED----------------------\n",
            "final shape of pca  (90, 217)\n",
            "(90, 217)\n",
            "ari - 0.5372539216036402\n",
            "division --------------------------------------------------------------- 17\n"
          ]
        },
        {
          "output_type": "stream",
          "name": "stderr",
          "text": [
            "/usr/local/lib/python3.10/dist-packages/sklearn/cluster/_kmeans.py:870: FutureWarning: The default value of `n_init` will change from 10 to 'auto' in 1.4. Set the value of `n_init` explicitly to suppress the warning\n",
            "  warnings.warn(\n"
          ]
        },
        {
          "output_type": "stream",
          "name": "stdout",
          "text": [
            "BUCKETS ARE FILLED----------------------\n",
            "final shape of pca  (90, 243)\n",
            "(90, 243)\n",
            "ari - 0.633293602858024\n"
          ]
        },
        {
          "output_type": "stream",
          "name": "stderr",
          "text": [
            "/usr/local/lib/python3.10/dist-packages/sklearn/cluster/_kmeans.py:870: FutureWarning: The default value of `n_init` will change from 10 to 'auto' in 1.4. Set the value of `n_init` explicitly to suppress the warning\n",
            "  warnings.warn(\n"
          ]
        },
        {
          "output_type": "stream",
          "name": "stdout",
          "text": [
            "BUCKETS ARE FILLED----------------------\n",
            "final shape of pca  (90, 242)\n",
            "(90, 242)\n",
            "ari - 0.5372539216036402\n",
            "division --------------------------------------------------------------- 18\n"
          ]
        },
        {
          "output_type": "stream",
          "name": "stderr",
          "text": [
            "/usr/local/lib/python3.10/dist-packages/sklearn/cluster/_kmeans.py:870: FutureWarning: The default value of `n_init` will change from 10 to 'auto' in 1.4. Set the value of `n_init` explicitly to suppress the warning\n",
            "  warnings.warn(\n"
          ]
        },
        {
          "output_type": "stream",
          "name": "stdout",
          "text": [
            "BUCKETS ARE FILLED----------------------\n",
            "final shape of pca  (90, 244)\n",
            "(90, 244)\n",
            "ari - 0.5372539216036402\n"
          ]
        },
        {
          "output_type": "stream",
          "name": "stderr",
          "text": [
            "/usr/local/lib/python3.10/dist-packages/sklearn/cluster/_kmeans.py:870: FutureWarning: The default value of `n_init` will change from 10 to 'auto' in 1.4. Set the value of `n_init` explicitly to suppress the warning\n",
            "  warnings.warn(\n"
          ]
        },
        {
          "output_type": "stream",
          "name": "stdout",
          "text": [
            "BUCKETS ARE FILLED----------------------\n",
            "final shape of pca  (90, 225)\n",
            "(90, 225)\n",
            "ari - 0.523686953507871\n",
            "division --------------------------------------------------------------- 19\n"
          ]
        },
        {
          "output_type": "stream",
          "name": "stderr",
          "text": [
            "/usr/local/lib/python3.10/dist-packages/sklearn/cluster/_kmeans.py:870: FutureWarning: The default value of `n_init` will change from 10 to 'auto' in 1.4. Set the value of `n_init` explicitly to suppress the warning\n",
            "  warnings.warn(\n"
          ]
        },
        {
          "output_type": "stream",
          "name": "stdout",
          "text": [
            "BUCKETS ARE FILLED----------------------\n",
            "final shape of pca  (90, 242)\n",
            "(90, 242)\n",
            "ari - 0.523686953507871\n"
          ]
        },
        {
          "output_type": "stream",
          "name": "stderr",
          "text": [
            "/usr/local/lib/python3.10/dist-packages/sklearn/cluster/_kmeans.py:870: FutureWarning: The default value of `n_init` will change from 10 to 'auto' in 1.4. Set the value of `n_init` explicitly to suppress the warning\n",
            "  warnings.warn(\n"
          ]
        },
        {
          "output_type": "stream",
          "name": "stdout",
          "text": [
            "BUCKETS ARE FILLED----------------------\n",
            "final shape of pca  (90, 257)\n",
            "(90, 257)\n",
            "ari - 0.523686953507871\n",
            "division --------------------------------------------------------------- 20\n"
          ]
        },
        {
          "output_type": "stream",
          "name": "stderr",
          "text": [
            "/usr/local/lib/python3.10/dist-packages/sklearn/cluster/_kmeans.py:870: FutureWarning: The default value of `n_init` will change from 10 to 'auto' in 1.4. Set the value of `n_init` explicitly to suppress the warning\n",
            "  warnings.warn(\n"
          ]
        },
        {
          "output_type": "stream",
          "name": "stdout",
          "text": [
            "BUCKETS ARE FILLED----------------------\n",
            "final shape of pca  (90, 248)\n",
            "(90, 248)\n",
            "ari - 0.5265117928710764\n"
          ]
        },
        {
          "output_type": "stream",
          "name": "stderr",
          "text": [
            "/usr/local/lib/python3.10/dist-packages/sklearn/cluster/_kmeans.py:870: FutureWarning: The default value of `n_init` will change from 10 to 'auto' in 1.4. Set the value of `n_init` explicitly to suppress the warning\n",
            "  warnings.warn(\n"
          ]
        },
        {
          "output_type": "stream",
          "name": "stdout",
          "text": [
            "BUCKETS ARE FILLED----------------------\n",
            "final shape of pca  (90, 245)\n",
            "(90, 245)\n",
            "ari - 0.5069059873191069\n",
            "datasets --------------------------------------------------------------- 1\n"
          ]
        },
        {
          "output_type": "stream",
          "name": "stderr",
          "text": [
            "/usr/local/lib/python3.10/dist-packages/sklearn/cluster/_kmeans.py:870: FutureWarning: The default value of `n_init` will change from 10 to 'auto' in 1.4. Set the value of `n_init` explicitly to suppress the warning\n",
            "  warnings.warn(\n"
          ]
        },
        {
          "output_type": "stream",
          "name": "stdout",
          "text": [
            "301\n"
          ]
        },
        {
          "output_type": "stream",
          "name": "stderr",
          "text": [
            "/usr/local/lib/python3.10/dist-packages/anndata/_core/aligned_df.py:67: ImplicitModificationWarning: Transforming to str index.\n",
            "  warnings.warn(\"Transforming to str index.\", ImplicitModificationWarning)\n",
            "/usr/local/lib/python3.10/dist-packages/anndata/_core/aligned_df.py:67: ImplicitModificationWarning: Transforming to str index.\n",
            "  warnings.warn(\"Transforming to str index.\", ImplicitModificationWarning)\n"
          ]
        },
        {
          "output_type": "stream",
          "name": "stdout",
          "text": [
            "highly variable genes (301, 10000)\n",
            "----------------------\n",
            "----------------------\n"
          ]
        },
        {
          "output_type": "stream",
          "name": "stderr",
          "text": [
            "WARNING:tensorflow:5 out of the last 13 calls to <function Model.make_predict_function.<locals>.predict_function at 0x7c9098126680> triggered tf.function retracing. Tracing is expensive and the excessive number of tracings could be due to (1) creating @tf.function repeatedly in a loop, (2) passing tensors with different shapes, (3) passing Python objects instead of tensors. For (1), please define your @tf.function outside of the loop. For (2), @tf.function has reduce_retracing=True option that can avoid unnecessary retracing. For (3), please refer to https://www.tensorflow.org/guide/function#controlling_retracing and https://www.tensorflow.org/api_docs/python/tf/function for  more details.\n"
          ]
        },
        {
          "output_type": "stream",
          "name": "stdout",
          "text": [
            "number of clusters =  11\n",
            "number of values in 0:1 range in original --  1492674\n",
            "number of values in 0:1 range in imputed data --  0\n",
            "division --------------------------------------------------------------- 1\n",
            "BUCKETS ARE FILLED----------------------\n",
            "final shape of pca  (301, 78)\n",
            "(301, 78)\n",
            "ari - 0.8618935102472649\n"
          ]
        },
        {
          "output_type": "stream",
          "name": "stderr",
          "text": [
            "/usr/local/lib/python3.10/dist-packages/sklearn/cluster/_kmeans.py:870: FutureWarning: The default value of `n_init` will change from 10 to 'auto' in 1.4. Set the value of `n_init` explicitly to suppress the warning\n",
            "  warnings.warn(\n"
          ]
        },
        {
          "output_type": "stream",
          "name": "stdout",
          "text": [
            "BUCKETS ARE FILLED----------------------\n",
            "final shape of pca  (301, 78)\n",
            "(301, 78)\n",
            "ari - 0.8194296026290743\n",
            "division --------------------------------------------------------------- 2\n"
          ]
        },
        {
          "output_type": "stream",
          "name": "stderr",
          "text": [
            "/usr/local/lib/python3.10/dist-packages/sklearn/cluster/_kmeans.py:870: FutureWarning: The default value of `n_init` will change from 10 to 'auto' in 1.4. Set the value of `n_init` explicitly to suppress the warning\n",
            "  warnings.warn(\n"
          ]
        },
        {
          "output_type": "stream",
          "name": "stdout",
          "text": [
            "BUCKETS ARE FILLED----------------------\n",
            "final shape of pca  (301, 155)\n",
            "(301, 155)\n",
            "ari - 0.8211034746936541\n"
          ]
        },
        {
          "output_type": "stream",
          "name": "stderr",
          "text": [
            "/usr/local/lib/python3.10/dist-packages/sklearn/cluster/_kmeans.py:870: FutureWarning: The default value of `n_init` will change from 10 to 'auto' in 1.4. Set the value of `n_init` explicitly to suppress the warning\n",
            "  warnings.warn(\n"
          ]
        },
        {
          "output_type": "stream",
          "name": "stdout",
          "text": [
            "BUCKETS ARE FILLED----------------------\n",
            "final shape of pca  (301, 156)\n",
            "(301, 156)\n",
            "ari - 0.8287221707950904\n",
            "division --------------------------------------------------------------- 3\n"
          ]
        },
        {
          "output_type": "stream",
          "name": "stderr",
          "text": [
            "/usr/local/lib/python3.10/dist-packages/sklearn/cluster/_kmeans.py:870: FutureWarning: The default value of `n_init` will change from 10 to 'auto' in 1.4. Set the value of `n_init` explicitly to suppress the warning\n",
            "  warnings.warn(\n"
          ]
        },
        {
          "output_type": "stream",
          "name": "stdout",
          "text": [
            "BUCKETS ARE FILLED----------------------\n",
            "final shape of pca  (301, 235)\n",
            "(301, 235)\n",
            "ari - 0.8113105673264586\n"
          ]
        },
        {
          "output_type": "stream",
          "name": "stderr",
          "text": [
            "/usr/local/lib/python3.10/dist-packages/sklearn/cluster/_kmeans.py:870: FutureWarning: The default value of `n_init` will change from 10 to 'auto' in 1.4. Set the value of `n_init` explicitly to suppress the warning\n",
            "  warnings.warn(\n"
          ]
        },
        {
          "output_type": "stream",
          "name": "stdout",
          "text": [
            "BUCKETS ARE FILLED----------------------\n",
            "final shape of pca  (301, 231)\n",
            "(301, 231)\n",
            "ari - 0.8262169618156862\n",
            "division --------------------------------------------------------------- 4\n"
          ]
        },
        {
          "output_type": "stream",
          "name": "stderr",
          "text": [
            "/usr/local/lib/python3.10/dist-packages/sklearn/cluster/_kmeans.py:870: FutureWarning: The default value of `n_init` will change from 10 to 'auto' in 1.4. Set the value of `n_init` explicitly to suppress the warning\n",
            "  warnings.warn(\n"
          ]
        },
        {
          "output_type": "stream",
          "name": "stdout",
          "text": [
            "BUCKETS ARE FILLED----------------------\n",
            "final shape of pca  (301, 307)\n",
            "(301, 307)\n",
            "ari - 0.8249077908123105\n"
          ]
        },
        {
          "output_type": "stream",
          "name": "stderr",
          "text": [
            "/usr/local/lib/python3.10/dist-packages/sklearn/cluster/_kmeans.py:870: FutureWarning: The default value of `n_init` will change from 10 to 'auto' in 1.4. Set the value of `n_init` explicitly to suppress the warning\n",
            "  warnings.warn(\n"
          ]
        },
        {
          "output_type": "stream",
          "name": "stdout",
          "text": [
            "BUCKETS ARE FILLED----------------------\n",
            "final shape of pca  (301, 305)\n",
            "(301, 305)\n",
            "ari - 0.8260197164930473\n",
            "division --------------------------------------------------------------- 5\n"
          ]
        },
        {
          "output_type": "stream",
          "name": "stderr",
          "text": [
            "/usr/local/lib/python3.10/dist-packages/sklearn/cluster/_kmeans.py:870: FutureWarning: The default value of `n_init` will change from 10 to 'auto' in 1.4. Set the value of `n_init` explicitly to suppress the warning\n",
            "  warnings.warn(\n"
          ]
        },
        {
          "output_type": "stream",
          "name": "stdout",
          "text": [
            "BUCKETS ARE FILLED----------------------\n",
            "final shape of pca  (301, 385)\n"
          ]
        },
        {
          "output_type": "stream",
          "name": "stderr",
          "text": [
            "/usr/local/lib/python3.10/dist-packages/sklearn/cluster/_kmeans.py:870: FutureWarning: The default value of `n_init` will change from 10 to 'auto' in 1.4. Set the value of `n_init` explicitly to suppress the warning\n",
            "  warnings.warn(\n"
          ]
        },
        {
          "output_type": "stream",
          "name": "stdout",
          "text": [
            "(301, 385)\n",
            "ari - 0.8262254514219457\n",
            "BUCKETS ARE FILLED----------------------\n",
            "final shape of pca  (301, 379)\n",
            "(301, 379)\n",
            "ari - 0.8184658744532134\n",
            "division --------------------------------------------------------------- 6\n"
          ]
        },
        {
          "output_type": "stream",
          "name": "stderr",
          "text": [
            "/usr/local/lib/python3.10/dist-packages/sklearn/cluster/_kmeans.py:870: FutureWarning: The default value of `n_init` will change from 10 to 'auto' in 1.4. Set the value of `n_init` explicitly to suppress the warning\n",
            "  warnings.warn(\n"
          ]
        },
        {
          "output_type": "stream",
          "name": "stdout",
          "text": [
            "BUCKETS ARE FILLED----------------------\n",
            "final shape of pca  (301, 452)\n",
            "(301, 452)\n",
            "ari - 0.7424381733555355\n"
          ]
        },
        {
          "output_type": "stream",
          "name": "stderr",
          "text": [
            "/usr/local/lib/python3.10/dist-packages/sklearn/cluster/_kmeans.py:870: FutureWarning: The default value of `n_init` will change from 10 to 'auto' in 1.4. Set the value of `n_init` explicitly to suppress the warning\n",
            "  warnings.warn(\n"
          ]
        },
        {
          "output_type": "stream",
          "name": "stdout",
          "text": [
            "BUCKETS ARE FILLED----------------------\n",
            "final shape of pca  (301, 442)\n",
            "(301, 442)\n",
            "ari - 0.7538294404035537\n",
            "division --------------------------------------------------------------- 7\n"
          ]
        },
        {
          "output_type": "stream",
          "name": "stderr",
          "text": [
            "/usr/local/lib/python3.10/dist-packages/sklearn/cluster/_kmeans.py:870: FutureWarning: The default value of `n_init` will change from 10 to 'auto' in 1.4. Set the value of `n_init` explicitly to suppress the warning\n",
            "  warnings.warn(\n"
          ]
        },
        {
          "output_type": "stream",
          "name": "stdout",
          "text": [
            "BUCKETS ARE FILLED----------------------\n",
            "final shape of pca  (301, 508)\n",
            "(301, 508)\n",
            "ari - 0.7861436832148985\n"
          ]
        },
        {
          "output_type": "stream",
          "name": "stderr",
          "text": [
            "/usr/local/lib/python3.10/dist-packages/sklearn/cluster/_kmeans.py:870: FutureWarning: The default value of `n_init` will change from 10 to 'auto' in 1.4. Set the value of `n_init` explicitly to suppress the warning\n",
            "  warnings.warn(\n"
          ]
        },
        {
          "output_type": "stream",
          "name": "stdout",
          "text": [
            "BUCKETS ARE FILLED----------------------\n",
            "final shape of pca  (301, 530)\n",
            "(301, 530)\n",
            "ari - 0.8113105673264586\n",
            "division --------------------------------------------------------------- 8\n"
          ]
        },
        {
          "output_type": "stream",
          "name": "stderr",
          "text": [
            "/usr/local/lib/python3.10/dist-packages/sklearn/cluster/_kmeans.py:870: FutureWarning: The default value of `n_init` will change from 10 to 'auto' in 1.4. Set the value of `n_init` explicitly to suppress the warning\n",
            "  warnings.warn(\n"
          ]
        },
        {
          "output_type": "stream",
          "name": "stdout",
          "text": [
            "BUCKETS ARE FILLED----------------------\n",
            "final shape of pca  (301, 584)\n",
            "(301, 584)\n",
            "ari - 0.8655146063896334\n"
          ]
        },
        {
          "output_type": "stream",
          "name": "stderr",
          "text": [
            "/usr/local/lib/python3.10/dist-packages/sklearn/cluster/_kmeans.py:870: FutureWarning: The default value of `n_init` will change from 10 to 'auto' in 1.4. Set the value of `n_init` explicitly to suppress the warning\n",
            "  warnings.warn(\n"
          ]
        },
        {
          "output_type": "stream",
          "name": "stdout",
          "text": [
            "BUCKETS ARE FILLED----------------------\n",
            "final shape of pca  (301, 583)\n",
            "(301, 583)\n",
            "ari - 0.7608472148642408\n",
            "division --------------------------------------------------------------- 9\n"
          ]
        },
        {
          "output_type": "stream",
          "name": "stderr",
          "text": [
            "/usr/local/lib/python3.10/dist-packages/sklearn/cluster/_kmeans.py:870: FutureWarning: The default value of `n_init` will change from 10 to 'auto' in 1.4. Set the value of `n_init` explicitly to suppress the warning\n",
            "  warnings.warn(\n"
          ]
        },
        {
          "output_type": "stream",
          "name": "stdout",
          "text": [
            "BUCKETS ARE FILLED----------------------\n",
            "final shape of pca  (301, 645)\n",
            "(301, 645)\n",
            "ari - 0.8159253778680713\n"
          ]
        },
        {
          "output_type": "stream",
          "name": "stderr",
          "text": [
            "/usr/local/lib/python3.10/dist-packages/sklearn/cluster/_kmeans.py:870: FutureWarning: The default value of `n_init` will change from 10 to 'auto' in 1.4. Set the value of `n_init` explicitly to suppress the warning\n",
            "  warnings.warn(\n"
          ]
        },
        {
          "output_type": "stream",
          "name": "stdout",
          "text": [
            "BUCKETS ARE FILLED----------------------\n",
            "final shape of pca  (301, 621)\n",
            "(301, 621)\n",
            "ari - 0.8110176321552897\n",
            "division --------------------------------------------------------------- 10\n"
          ]
        },
        {
          "output_type": "stream",
          "name": "stderr",
          "text": [
            "/usr/local/lib/python3.10/dist-packages/sklearn/cluster/_kmeans.py:870: FutureWarning: The default value of `n_init` will change from 10 to 'auto' in 1.4. Set the value of `n_init` explicitly to suppress the warning\n",
            "  warnings.warn(\n"
          ]
        },
        {
          "output_type": "stream",
          "name": "stdout",
          "text": [
            "BUCKETS ARE FILLED----------------------\n",
            "final shape of pca  (301, 727)\n",
            "(301, 727)\n",
            "ari - 0.8468322295916119\n"
          ]
        },
        {
          "output_type": "stream",
          "name": "stderr",
          "text": [
            "/usr/local/lib/python3.10/dist-packages/sklearn/cluster/_kmeans.py:870: FutureWarning: The default value of `n_init` will change from 10 to 'auto' in 1.4. Set the value of `n_init` explicitly to suppress the warning\n",
            "  warnings.warn(\n"
          ]
        },
        {
          "output_type": "stream",
          "name": "stdout",
          "text": [
            "BUCKETS ARE FILLED----------------------\n",
            "final shape of pca  (301, 706)\n",
            "(301, 706)\n",
            "ari - 0.7657314027936132\n",
            "division --------------------------------------------------------------- 11\n"
          ]
        },
        {
          "output_type": "stream",
          "name": "stderr",
          "text": [
            "/usr/local/lib/python3.10/dist-packages/sklearn/cluster/_kmeans.py:870: FutureWarning: The default value of `n_init` will change from 10 to 'auto' in 1.4. Set the value of `n_init` explicitly to suppress the warning\n",
            "  warnings.warn(\n"
          ]
        },
        {
          "output_type": "stream",
          "name": "stdout",
          "text": [
            "BUCKETS ARE FILLED----------------------\n",
            "final shape of pca  (301, 824)\n",
            "(301, 824)\n",
            "ari - 0.8579678988462441\n"
          ]
        },
        {
          "output_type": "stream",
          "name": "stderr",
          "text": [
            "/usr/local/lib/python3.10/dist-packages/sklearn/cluster/_kmeans.py:870: FutureWarning: The default value of `n_init` will change from 10 to 'auto' in 1.4. Set the value of `n_init` explicitly to suppress the warning\n",
            "  warnings.warn(\n"
          ]
        },
        {
          "output_type": "stream",
          "name": "stdout",
          "text": [
            "BUCKETS ARE FILLED----------------------\n",
            "final shape of pca  (301, 756)\n",
            "(301, 756)\n",
            "ari - 0.8073446234823372\n",
            "division --------------------------------------------------------------- 12\n"
          ]
        },
        {
          "output_type": "stream",
          "name": "stderr",
          "text": [
            "/usr/local/lib/python3.10/dist-packages/sklearn/cluster/_kmeans.py:870: FutureWarning: The default value of `n_init` will change from 10 to 'auto' in 1.4. Set the value of `n_init` explicitly to suppress the warning\n",
            "  warnings.warn(\n"
          ]
        },
        {
          "output_type": "stream",
          "name": "stdout",
          "text": [
            "BUCKETS ARE FILLED----------------------\n",
            "final shape of pca  (301, 838)\n",
            "(301, 838)\n",
            "ari - 0.8311604544098558\n"
          ]
        },
        {
          "output_type": "stream",
          "name": "stderr",
          "text": [
            "/usr/local/lib/python3.10/dist-packages/sklearn/cluster/_kmeans.py:870: FutureWarning: The default value of `n_init` will change from 10 to 'auto' in 1.4. Set the value of `n_init` explicitly to suppress the warning\n",
            "  warnings.warn(\n"
          ]
        },
        {
          "output_type": "stream",
          "name": "stdout",
          "text": [
            "BUCKETS ARE FILLED----------------------\n",
            "final shape of pca  (301, 810)\n",
            "(301, 810)\n",
            "ari - 0.8105926360813885\n",
            "division --------------------------------------------------------------- 13\n"
          ]
        },
        {
          "output_type": "stream",
          "name": "stderr",
          "text": [
            "/usr/local/lib/python3.10/dist-packages/sklearn/cluster/_kmeans.py:870: FutureWarning: The default value of `n_init` will change from 10 to 'auto' in 1.4. Set the value of `n_init` explicitly to suppress the warning\n",
            "  warnings.warn(\n"
          ]
        },
        {
          "output_type": "stream",
          "name": "stdout",
          "text": [
            "BUCKETS ARE FILLED----------------------\n",
            "final shape of pca  (301, 926)\n"
          ]
        },
        {
          "output_type": "stream",
          "name": "stderr",
          "text": [
            "/usr/local/lib/python3.10/dist-packages/sklearn/cluster/_kmeans.py:870: FutureWarning: The default value of `n_init` will change from 10 to 'auto' in 1.4. Set the value of `n_init` explicitly to suppress the warning\n",
            "  warnings.warn(\n"
          ]
        },
        {
          "output_type": "stream",
          "name": "stdout",
          "text": [
            "(301, 926)\n",
            "ari - 0.8125663569246283\n",
            "BUCKETS ARE FILLED----------------------\n",
            "final shape of pca  (301, 896)\n",
            "(301, 896)\n",
            "ari - 0.6875844360733337\n",
            "division --------------------------------------------------------------- 14\n"
          ]
        },
        {
          "output_type": "stream",
          "name": "stderr",
          "text": [
            "/usr/local/lib/python3.10/dist-packages/sklearn/cluster/_kmeans.py:870: FutureWarning: The default value of `n_init` will change from 10 to 'auto' in 1.4. Set the value of `n_init` explicitly to suppress the warning\n",
            "  warnings.warn(\n"
          ]
        },
        {
          "output_type": "stream",
          "name": "stdout",
          "text": [
            "BUCKETS ARE FILLED----------------------\n",
            "final shape of pca  (301, 988)\n"
          ]
        },
        {
          "output_type": "stream",
          "name": "stderr",
          "text": [
            "/usr/local/lib/python3.10/dist-packages/sklearn/cluster/_kmeans.py:870: FutureWarning: The default value of `n_init` will change from 10 to 'auto' in 1.4. Set the value of `n_init` explicitly to suppress the warning\n",
            "  warnings.warn(\n"
          ]
        },
        {
          "output_type": "stream",
          "name": "stdout",
          "text": [
            "(301, 988)\n",
            "ari - 0.8146678556389336\n",
            "BUCKETS ARE FILLED----------------------\n",
            "final shape of pca  (301, 901)\n",
            "(301, 901)\n",
            "ari - 0.8520688059501237\n",
            "division --------------------------------------------------------------- 15\n"
          ]
        },
        {
          "output_type": "stream",
          "name": "stderr",
          "text": [
            "/usr/local/lib/python3.10/dist-packages/sklearn/cluster/_kmeans.py:870: FutureWarning: The default value of `n_init` will change from 10 to 'auto' in 1.4. Set the value of `n_init` explicitly to suppress the warning\n",
            "  warnings.warn(\n"
          ]
        },
        {
          "output_type": "stream",
          "name": "stdout",
          "text": [
            "BUCKETS ARE FILLED----------------------\n",
            "final shape of pca  (301, 1062)\n"
          ]
        },
        {
          "output_type": "stream",
          "name": "stderr",
          "text": [
            "/usr/local/lib/python3.10/dist-packages/sklearn/cluster/_kmeans.py:870: FutureWarning: The default value of `n_init` will change from 10 to 'auto' in 1.4. Set the value of `n_init` explicitly to suppress the warning\n",
            "  warnings.warn(\n"
          ]
        },
        {
          "output_type": "stream",
          "name": "stdout",
          "text": [
            "(301, 1062)\n",
            "ari - 0.8460013691584385\n",
            "BUCKETS ARE FILLED----------------------\n",
            "final shape of pca  (301, 981)\n"
          ]
        },
        {
          "output_type": "stream",
          "name": "stderr",
          "text": [
            "/usr/local/lib/python3.10/dist-packages/sklearn/cluster/_kmeans.py:870: FutureWarning: The default value of `n_init` will change from 10 to 'auto' in 1.4. Set the value of `n_init` explicitly to suppress the warning\n",
            "  warnings.warn(\n"
          ]
        },
        {
          "output_type": "stream",
          "name": "stdout",
          "text": [
            "(301, 981)\n",
            "ari - 0.8118487574031563\n",
            "division --------------------------------------------------------------- 16\n",
            "BUCKETS ARE FILLED----------------------\n",
            "final shape of pca  (301, 1036)\n",
            "(301, 1036)\n",
            "ari - 0.8117330544697151\n"
          ]
        },
        {
          "output_type": "stream",
          "name": "stderr",
          "text": [
            "/usr/local/lib/python3.10/dist-packages/sklearn/cluster/_kmeans.py:870: FutureWarning: The default value of `n_init` will change from 10 to 'auto' in 1.4. Set the value of `n_init` explicitly to suppress the warning\n",
            "  warnings.warn(\n"
          ]
        },
        {
          "output_type": "stream",
          "name": "stdout",
          "text": [
            "BUCKETS ARE FILLED----------------------\n",
            "final shape of pca  (301, 1066)\n",
            "(301, 1066)\n",
            "ari - 0.8135234555755421\n",
            "division --------------------------------------------------------------- 17\n"
          ]
        },
        {
          "output_type": "stream",
          "name": "stderr",
          "text": [
            "/usr/local/lib/python3.10/dist-packages/sklearn/cluster/_kmeans.py:870: FutureWarning: The default value of `n_init` will change from 10 to 'auto' in 1.4. Set the value of `n_init` explicitly to suppress the warning\n",
            "  warnings.warn(\n"
          ]
        },
        {
          "output_type": "stream",
          "name": "stdout",
          "text": [
            "BUCKETS ARE FILLED----------------------\n",
            "final shape of pca  (301, 1182)\n"
          ]
        },
        {
          "output_type": "stream",
          "name": "stderr",
          "text": [
            "/usr/local/lib/python3.10/dist-packages/sklearn/cluster/_kmeans.py:870: FutureWarning: The default value of `n_init` will change from 10 to 'auto' in 1.4. Set the value of `n_init` explicitly to suppress the warning\n",
            "  warnings.warn(\n"
          ]
        },
        {
          "output_type": "stream",
          "name": "stdout",
          "text": [
            "(301, 1182)\n",
            "ari - 0.8184545073622301\n",
            "BUCKETS ARE FILLED----------------------\n",
            "final shape of pca  (301, 1189)\n"
          ]
        },
        {
          "output_type": "stream",
          "name": "stderr",
          "text": [
            "/usr/local/lib/python3.10/dist-packages/sklearn/cluster/_kmeans.py:870: FutureWarning: The default value of `n_init` will change from 10 to 'auto' in 1.4. Set the value of `n_init` explicitly to suppress the warning\n",
            "  warnings.warn(\n"
          ]
        },
        {
          "output_type": "stream",
          "name": "stdout",
          "text": [
            "(301, 1189)\n",
            "ari - 0.8544121568634774\n",
            "division --------------------------------------------------------------- 18\n",
            "BUCKETS ARE FILLED----------------------\n",
            "final shape of pca  (301, 1258)\n"
          ]
        },
        {
          "output_type": "stream",
          "name": "stderr",
          "text": [
            "/usr/local/lib/python3.10/dist-packages/sklearn/cluster/_kmeans.py:870: FutureWarning: The default value of `n_init` will change from 10 to 'auto' in 1.4. Set the value of `n_init` explicitly to suppress the warning\n",
            "  warnings.warn(\n"
          ]
        },
        {
          "output_type": "stream",
          "name": "stdout",
          "text": [
            "(301, 1258)\n",
            "ari - 0.7275755596908714\n",
            "BUCKETS ARE FILLED----------------------\n",
            "final shape of pca  (301, 1244)\n"
          ]
        },
        {
          "output_type": "stream",
          "name": "stderr",
          "text": [
            "/usr/local/lib/python3.10/dist-packages/sklearn/cluster/_kmeans.py:870: FutureWarning: The default value of `n_init` will change from 10 to 'auto' in 1.4. Set the value of `n_init` explicitly to suppress the warning\n",
            "  warnings.warn(\n"
          ]
        },
        {
          "output_type": "stream",
          "name": "stdout",
          "text": [
            "(301, 1244)\n",
            "ari - 0.754662206912073\n",
            "division --------------------------------------------------------------- 19\n",
            "BUCKETS ARE FILLED----------------------\n",
            "final shape of pca  (301, 1253)\n"
          ]
        },
        {
          "output_type": "stream",
          "name": "stderr",
          "text": [
            "/usr/local/lib/python3.10/dist-packages/sklearn/cluster/_kmeans.py:870: FutureWarning: The default value of `n_init` will change from 10 to 'auto' in 1.4. Set the value of `n_init` explicitly to suppress the warning\n",
            "  warnings.warn(\n"
          ]
        },
        {
          "output_type": "stream",
          "name": "stdout",
          "text": [
            "(301, 1253)\n",
            "ari - 0.8564587396431923\n",
            "BUCKETS ARE FILLED----------------------\n",
            "final shape of pca  (301, 1310)\n"
          ]
        },
        {
          "output_type": "stream",
          "name": "stderr",
          "text": [
            "/usr/local/lib/python3.10/dist-packages/sklearn/cluster/_kmeans.py:870: FutureWarning: The default value of `n_init` will change from 10 to 'auto' in 1.4. Set the value of `n_init` explicitly to suppress the warning\n",
            "  warnings.warn(\n"
          ]
        },
        {
          "output_type": "stream",
          "name": "stdout",
          "text": [
            "(301, 1310)\n",
            "ari - 0.8130168420767204\n",
            "division --------------------------------------------------------------- 20\n",
            "BUCKETS ARE FILLED----------------------\n",
            "final shape of pca  (301, 1336)\n"
          ]
        },
        {
          "output_type": "stream",
          "name": "stderr",
          "text": [
            "/usr/local/lib/python3.10/dist-packages/sklearn/cluster/_kmeans.py:870: FutureWarning: The default value of `n_init` will change from 10 to 'auto' in 1.4. Set the value of `n_init` explicitly to suppress the warning\n",
            "  warnings.warn(\n"
          ]
        },
        {
          "output_type": "stream",
          "name": "stdout",
          "text": [
            "(301, 1336)\n",
            "ari - 0.8444650986083505\n",
            "BUCKETS ARE FILLED----------------------\n",
            "final shape of pca  (301, 1371)\n"
          ]
        },
        {
          "output_type": "stream",
          "name": "stderr",
          "text": [
            "/usr/local/lib/python3.10/dist-packages/sklearn/cluster/_kmeans.py:870: FutureWarning: The default value of `n_init` will change from 10 to 'auto' in 1.4. Set the value of `n_init` explicitly to suppress the warning\n",
            "  warnings.warn(\n"
          ]
        },
        {
          "output_type": "stream",
          "name": "stdout",
          "text": [
            "(301, 1371)\n",
            "ari - 0.8046044442581762\n",
            "datasets --------------------------------------------------------------- 2\n",
            "704\n"
          ]
        },
        {
          "output_type": "stream",
          "name": "stderr",
          "text": [
            "/usr/local/lib/python3.10/dist-packages/anndata/_core/aligned_df.py:67: ImplicitModificationWarning: Transforming to str index.\n",
            "  warnings.warn(\"Transforming to str index.\", ImplicitModificationWarning)\n",
            "/usr/local/lib/python3.10/dist-packages/anndata/_core/aligned_df.py:67: ImplicitModificationWarning: Transforming to str index.\n",
            "  warnings.warn(\"Transforming to str index.\", ImplicitModificationWarning)\n"
          ]
        },
        {
          "output_type": "stream",
          "name": "stdout",
          "text": [
            "highly variable genes (704, 10000)\n",
            "----------------------\n",
            "----------------------\n",
            "number of clusters =  3\n",
            "number of values in 0:1 range in original --  2444650\n",
            "number of values in 0:1 range in imputed data --  0\n",
            "division --------------------------------------------------------------- 1\n",
            "BUCKETS ARE FILLED----------------------\n",
            "final shape of pca  (704, 214)\n",
            "(704, 214)\n",
            "ari - 0.15887200685273953\n"
          ]
        },
        {
          "output_type": "stream",
          "name": "stderr",
          "text": [
            "/usr/local/lib/python3.10/dist-packages/sklearn/cluster/_kmeans.py:870: FutureWarning: The default value of `n_init` will change from 10 to 'auto' in 1.4. Set the value of `n_init` explicitly to suppress the warning\n",
            "  warnings.warn(\n"
          ]
        },
        {
          "output_type": "stream",
          "name": "stdout",
          "text": [
            "BUCKETS ARE FILLED----------------------\n",
            "final shape of pca  (704, 214)\n"
          ]
        },
        {
          "output_type": "stream",
          "name": "stderr",
          "text": [
            "/usr/local/lib/python3.10/dist-packages/sklearn/cluster/_kmeans.py:870: FutureWarning: The default value of `n_init` will change from 10 to 'auto' in 1.4. Set the value of `n_init` explicitly to suppress the warning\n",
            "  warnings.warn(\n"
          ]
        },
        {
          "output_type": "stream",
          "name": "stdout",
          "text": [
            "(704, 214)\n",
            "ari - 0.15887200685273953\n",
            "division --------------------------------------------------------------- 2\n",
            "BUCKETS ARE FILLED----------------------\n",
            "final shape of pca  (704, 427)\n",
            "(704, 427)\n",
            "ari - 0.15887200685273953\n"
          ]
        },
        {
          "output_type": "stream",
          "name": "stderr",
          "text": [
            "/usr/local/lib/python3.10/dist-packages/sklearn/cluster/_kmeans.py:870: FutureWarning: The default value of `n_init` will change from 10 to 'auto' in 1.4. Set the value of `n_init` explicitly to suppress the warning\n",
            "  warnings.warn(\n"
          ]
        },
        {
          "output_type": "stream",
          "name": "stdout",
          "text": [
            "BUCKETS ARE FILLED----------------------\n",
            "final shape of pca  (704, 426)\n"
          ]
        },
        {
          "output_type": "stream",
          "name": "stderr",
          "text": [
            "/usr/local/lib/python3.10/dist-packages/sklearn/cluster/_kmeans.py:870: FutureWarning: The default value of `n_init` will change from 10 to 'auto' in 1.4. Set the value of `n_init` explicitly to suppress the warning\n",
            "  warnings.warn(\n"
          ]
        },
        {
          "output_type": "stream",
          "name": "stdout",
          "text": [
            "(704, 426)\n",
            "ari - 0.15878220033669777\n",
            "division --------------------------------------------------------------- 3\n",
            "BUCKETS ARE FILLED----------------------\n",
            "final shape of pca  (704, 631)\n",
            "(704, 631)\n",
            "ari - 0.15887200685273953\n"
          ]
        },
        {
          "output_type": "stream",
          "name": "stderr",
          "text": [
            "/usr/local/lib/python3.10/dist-packages/sklearn/cluster/_kmeans.py:870: FutureWarning: The default value of `n_init` will change from 10 to 'auto' in 1.4. Set the value of `n_init` explicitly to suppress the warning\n",
            "  warnings.warn(\n"
          ]
        },
        {
          "output_type": "stream",
          "name": "stdout",
          "text": [
            "BUCKETS ARE FILLED----------------------\n",
            "final shape of pca  (704, 631)\n"
          ]
        },
        {
          "output_type": "stream",
          "name": "stderr",
          "text": [
            "/usr/local/lib/python3.10/dist-packages/sklearn/cluster/_kmeans.py:870: FutureWarning: The default value of `n_init` will change from 10 to 'auto' in 1.4. Set the value of `n_init` explicitly to suppress the warning\n",
            "  warnings.warn(\n"
          ]
        },
        {
          "output_type": "stream",
          "name": "stdout",
          "text": [
            "(704, 631)\n",
            "ari - 0.15887200685273953\n",
            "division --------------------------------------------------------------- 4\n",
            "BUCKETS ARE FILLED----------------------\n",
            "final shape of pca  (704, 846)\n"
          ]
        },
        {
          "output_type": "stream",
          "name": "stderr",
          "text": [
            "/usr/local/lib/python3.10/dist-packages/sklearn/cluster/_kmeans.py:870: FutureWarning: The default value of `n_init` will change from 10 to 'auto' in 1.4. Set the value of `n_init` explicitly to suppress the warning\n",
            "  warnings.warn(\n"
          ]
        },
        {
          "output_type": "stream",
          "name": "stdout",
          "text": [
            "(704, 846)\n",
            "ari - 0.1567330615283148\n",
            "BUCKETS ARE FILLED----------------------\n",
            "final shape of pca  (704, 837)\n"
          ]
        },
        {
          "output_type": "stream",
          "name": "stderr",
          "text": [
            "/usr/local/lib/python3.10/dist-packages/sklearn/cluster/_kmeans.py:870: FutureWarning: The default value of `n_init` will change from 10 to 'auto' in 1.4. Set the value of `n_init` explicitly to suppress the warning\n",
            "  warnings.warn(\n"
          ]
        },
        {
          "output_type": "stream",
          "name": "stdout",
          "text": [
            "(704, 837)\n",
            "ari - 0.15898382385213145\n",
            "division --------------------------------------------------------------- 5\n",
            "BUCKETS ARE FILLED----------------------\n",
            "final shape of pca  (704, 1083)\n"
          ]
        },
        {
          "output_type": "stream",
          "name": "stderr",
          "text": [
            "/usr/local/lib/python3.10/dist-packages/sklearn/cluster/_kmeans.py:870: FutureWarning: The default value of `n_init` will change from 10 to 'auto' in 1.4. Set the value of `n_init` explicitly to suppress the warning\n",
            "  warnings.warn(\n"
          ]
        },
        {
          "output_type": "stream",
          "name": "stdout",
          "text": [
            "(704, 1083)\n",
            "ari - 0.16634259375809776\n",
            "BUCKETS ARE FILLED----------------------\n",
            "final shape of pca  (704, 1032)\n"
          ]
        },
        {
          "output_type": "stream",
          "name": "stderr",
          "text": [
            "/usr/local/lib/python3.10/dist-packages/sklearn/cluster/_kmeans.py:870: FutureWarning: The default value of `n_init` will change from 10 to 'auto' in 1.4. Set the value of `n_init` explicitly to suppress the warning\n",
            "  warnings.warn(\n"
          ]
        },
        {
          "output_type": "stream",
          "name": "stdout",
          "text": [
            "(704, 1032)\n",
            "ari - 0.15887200685273953\n",
            "division --------------------------------------------------------------- 6\n",
            "BUCKETS ARE FILLED----------------------\n",
            "final shape of pca  (704, 1242)\n"
          ]
        },
        {
          "output_type": "stream",
          "name": "stderr",
          "text": [
            "/usr/local/lib/python3.10/dist-packages/sklearn/cluster/_kmeans.py:870: FutureWarning: The default value of `n_init` will change from 10 to 'auto' in 1.4. Set the value of `n_init` explicitly to suppress the warning\n",
            "  warnings.warn(\n"
          ]
        },
        {
          "output_type": "stream",
          "name": "stdout",
          "text": [
            "(704, 1242)\n",
            "ari - 0.15887200685273953\n",
            "BUCKETS ARE FILLED----------------------\n",
            "final shape of pca  (704, 1234)\n"
          ]
        },
        {
          "output_type": "stream",
          "name": "stderr",
          "text": [
            "/usr/local/lib/python3.10/dist-packages/sklearn/cluster/_kmeans.py:870: FutureWarning: The default value of `n_init` will change from 10 to 'auto' in 1.4. Set the value of `n_init` explicitly to suppress the warning\n",
            "  warnings.warn(\n"
          ]
        },
        {
          "output_type": "stream",
          "name": "stdout",
          "text": [
            "(704, 1234)\n",
            "ari - 0.15871443012941888\n",
            "division --------------------------------------------------------------- 7\n",
            "BUCKETS ARE FILLED----------------------\n",
            "final shape of pca  (704, 1545)\n"
          ]
        },
        {
          "output_type": "stream",
          "name": "stderr",
          "text": [
            "/usr/local/lib/python3.10/dist-packages/sklearn/cluster/_kmeans.py:870: FutureWarning: The default value of `n_init` will change from 10 to 'auto' in 1.4. Set the value of `n_init` explicitly to suppress the warning\n",
            "  warnings.warn(\n"
          ]
        },
        {
          "output_type": "stream",
          "name": "stdout",
          "text": [
            "(704, 1545)\n",
            "ari - 0.15898382385213145\n",
            "BUCKETS ARE FILLED----------------------\n",
            "final shape of pca  (704, 1482)\n"
          ]
        },
        {
          "output_type": "stream",
          "name": "stderr",
          "text": [
            "/usr/local/lib/python3.10/dist-packages/sklearn/cluster/_kmeans.py:870: FutureWarning: The default value of `n_init` will change from 10 to 'auto' in 1.4. Set the value of `n_init` explicitly to suppress the warning\n",
            "  warnings.warn(\n"
          ]
        },
        {
          "output_type": "stream",
          "name": "stdout",
          "text": [
            "(704, 1482)\n",
            "ari - 0.1636374623057967\n",
            "division --------------------------------------------------------------- 8\n",
            "BUCKETS ARE FILLED----------------------\n",
            "final shape of pca  (704, 1698)\n"
          ]
        },
        {
          "output_type": "stream",
          "name": "stderr",
          "text": [
            "/usr/local/lib/python3.10/dist-packages/sklearn/cluster/_kmeans.py:870: FutureWarning: The default value of `n_init` will change from 10 to 'auto' in 1.4. Set the value of `n_init` explicitly to suppress the warning\n",
            "  warnings.warn(\n"
          ]
        },
        {
          "output_type": "stream",
          "name": "stdout",
          "text": [
            "(704, 1698)\n",
            "ari - 0.17596075779021475\n"
          ]
        }
      ]
    },
    {
      "cell_type": "code",
      "source": [
        "data_vs_ARI_path = f'/content/drive/MyDrive/Research/Bioinformatics/scRNAseq/datas/final_data/dump/{model_name}_{n_components}_random_ov{overlapping_percentage}_newdata3.csv'\n",
        "\n",
        "output_in_csv.to_csv(data_vs_ARI_path, index = False)"
      ],
      "metadata": {
        "id": "UZQC_kV92kyX"
      },
      "execution_count": 17,
      "outputs": []
    },
    {
      "cell_type": "code",
      "source": [
        "output_in_csv"
      ],
      "metadata": {
        "colab": {
          "base_uri": "https://localhost:8080/",
          "height": 904
        },
        "id": "zVJ1wntP2goR",
        "outputId": "554ab0f5-9027-4d3d-ccec-7ab8a3e91ac7"
      },
      "execution_count": 15,
      "outputs": [
        {
          "output_type": "execute_result",
          "data": {
            "text/plain": [
              "    division no       yan  yan_imputed    pollen  pollen_imputed  \\\n",
              "0    division 1  0.558906     0.670759  0.827631        0.776593   \n",
              "1    division 2  0.492811     0.767353  0.810733        0.879868   \n",
              "2    division 3  0.537254     0.644097  0.812173        0.888641   \n",
              "3    division 4  0.523687     0.528268  0.818471        0.825235   \n",
              "4    division 5  0.537254     0.424550  0.807831        0.932589   \n",
              "5    division 6  0.638825     0.630826  0.732808        0.862834   \n",
              "6    division 7  0.670062     0.644561  0.826020        0.807891   \n",
              "7    division 8  0.523687     0.733546  0.844347        0.825890   \n",
              "8    division 9  0.526512     0.755747  0.816192        0.852988   \n",
              "9   division 10  0.506906     0.661814  0.861836        0.870987   \n",
              "10  division 11  0.517841     0.597741  0.792002        0.864911   \n",
              "11  division 12  0.674845     0.615017  0.821817        0.828888   \n",
              "12  division 13  0.523687     0.658070  0.810072        0.828873   \n",
              "13  division 14  0.633294     0.760323  0.863426        0.735230   \n",
              "14  division 15  0.498788     0.723196  0.824629        0.846609   \n",
              "15  division 16  0.670062     0.538493  0.751448        0.913622   \n",
              "16  division 17  0.523687     0.524989  0.815816        0.848968   \n",
              "17  division 18  0.560185     0.651841  0.781142        0.807313   \n",
              "18  division 19  0.523687     0.756626  0.855467        0.837073   \n",
              "19  division 20  0.670596     0.675821  0.855426        0.812202   \n",
              "\n",
              "    kolodziejczyk  kolodziejczyk_imputed  intestine  intestine_imputed  \\\n",
              "0        0.158872               0.672292   0.420925           0.255282   \n",
              "1        0.158872               0.688206   0.362613           0.201085   \n",
              "2        0.156786               0.690259   0.383303           0.181603   \n",
              "3        0.159118               0.678183   0.424522           0.192199   \n",
              "4        0.156786               0.701260   0.422096           0.186465   \n",
              "5        0.156642               0.685546   0.437127           0.163918   \n",
              "6        0.156521               0.669747   0.389872           0.163199   \n",
              "7        0.154166               0.691624   0.365452           0.175740   \n",
              "8        0.174010               0.669747   0.344332           0.203682   \n",
              "9        0.156840               0.682650   0.472381           0.194346   \n",
              "10       0.156786               0.663431   0.360050           0.166793   \n",
              "11       0.158872               0.674776   0.378942           0.189925   \n",
              "12       0.147330               0.676553   0.384615           0.157228   \n",
              "13       0.163730               0.672292   0.457704           0.214271   \n",
              "14       0.163567               0.656970   0.422544           0.213898   \n",
              "15       0.171404               0.656393   0.394672           0.182269   \n",
              "16       0.171433               0.678719   0.428877           0.163208   \n",
              "17       0.161750               0.693064   0.444813           0.173457   \n",
              "18       0.171433               0.680687   0.449260           0.183830   \n",
              "19       0.161346               0.670986   0.484473           0.194456   \n",
              "\n",
              "      goolam  goolam_imputed       fan  fan_imputed  deng-rpkms  \\\n",
              "0   0.143728        0.848938  0.079778     0.365264    0.403562   \n",
              "1   0.241076        0.703999  0.134751     0.337556    0.407646   \n",
              "2   0.140973        0.712872  0.089397     0.336658    0.381864   \n",
              "3   0.147302        0.656601  0.079624     0.356438    0.404204   \n",
              "4   0.289326        0.657508  0.089397     0.318193    0.406488   \n",
              "5   0.136486        0.680813  0.099925     0.318193    0.398516   \n",
              "6   0.136486        0.377862  0.100054     0.318193    0.374927   \n",
              "7   0.254424        0.868658  0.096008     0.356956    0.411606   \n",
              "8   0.143728        0.589970  0.170737     0.325485    0.392094   \n",
              "9   0.133728        0.862729  0.077335     0.330558    0.423780   \n",
              "10  0.138890        0.729905  0.097530     0.360132    0.412157   \n",
              "11  0.259675        0.909723  0.173262     0.325485    0.484882   \n",
              "12  0.136486        0.318436  0.099925     0.363712    0.364714   \n",
              "13  0.241076        0.373002  0.089957     0.317449    0.396498   \n",
              "14  0.240971        0.812992  0.134751     0.371491    0.398318   \n",
              "15  0.256527        0.851962  0.115681     0.318193    0.476795   \n",
              "16  0.286623        0.859786  0.094216     0.318193    0.388861   \n",
              "17  0.250835        0.521288  0.102579     0.355012    0.450577   \n",
              "18  0.262186        0.851953  0.100054     0.318193    0.388610   \n",
              "19  0.241076        0.886459  0.079778     0.318193    0.407063   \n",
              "\n",
              "    deng-rpkms_imputed  \n",
              "0             0.398713  \n",
              "1             0.389870  \n",
              "2             0.400401  \n",
              "3             0.383505  \n",
              "4             0.389229  \n",
              "5             0.411894  \n",
              "6             0.440480  \n",
              "7             0.360781  \n",
              "8             0.436763  \n",
              "9             0.390068  \n",
              "10            0.342581  \n",
              "11            0.392799  \n",
              "12            0.354272  \n",
              "13            0.425733  \n",
              "14            0.379697  \n",
              "15            0.387726  \n",
              "16            0.339828  \n",
              "17            0.319402  \n",
              "18            0.328606  \n",
              "19            0.400116  "
            ],
            "text/html": [
              "\n",
              "  <div id=\"df-ff4cc402-37c9-4239-a867-7e19a392a888\" class=\"colab-df-container\">\n",
              "    <div>\n",
              "<style scoped>\n",
              "    .dataframe tbody tr th:only-of-type {\n",
              "        vertical-align: middle;\n",
              "    }\n",
              "\n",
              "    .dataframe tbody tr th {\n",
              "        vertical-align: top;\n",
              "    }\n",
              "\n",
              "    .dataframe thead th {\n",
              "        text-align: right;\n",
              "    }\n",
              "</style>\n",
              "<table border=\"1\" class=\"dataframe\">\n",
              "  <thead>\n",
              "    <tr style=\"text-align: right;\">\n",
              "      <th></th>\n",
              "      <th>division no</th>\n",
              "      <th>yan</th>\n",
              "      <th>yan_imputed</th>\n",
              "      <th>pollen</th>\n",
              "      <th>pollen_imputed</th>\n",
              "      <th>kolodziejczyk</th>\n",
              "      <th>kolodziejczyk_imputed</th>\n",
              "      <th>intestine</th>\n",
              "      <th>intestine_imputed</th>\n",
              "      <th>goolam</th>\n",
              "      <th>goolam_imputed</th>\n",
              "      <th>fan</th>\n",
              "      <th>fan_imputed</th>\n",
              "      <th>deng-rpkms</th>\n",
              "      <th>deng-rpkms_imputed</th>\n",
              "    </tr>\n",
              "  </thead>\n",
              "  <tbody>\n",
              "    <tr>\n",
              "      <th>0</th>\n",
              "      <td>division 1</td>\n",
              "      <td>0.558906</td>\n",
              "      <td>0.670759</td>\n",
              "      <td>0.827631</td>\n",
              "      <td>0.776593</td>\n",
              "      <td>0.158872</td>\n",
              "      <td>0.672292</td>\n",
              "      <td>0.420925</td>\n",
              "      <td>0.255282</td>\n",
              "      <td>0.143728</td>\n",
              "      <td>0.848938</td>\n",
              "      <td>0.079778</td>\n",
              "      <td>0.365264</td>\n",
              "      <td>0.403562</td>\n",
              "      <td>0.398713</td>\n",
              "    </tr>\n",
              "    <tr>\n",
              "      <th>1</th>\n",
              "      <td>division 2</td>\n",
              "      <td>0.492811</td>\n",
              "      <td>0.767353</td>\n",
              "      <td>0.810733</td>\n",
              "      <td>0.879868</td>\n",
              "      <td>0.158872</td>\n",
              "      <td>0.688206</td>\n",
              "      <td>0.362613</td>\n",
              "      <td>0.201085</td>\n",
              "      <td>0.241076</td>\n",
              "      <td>0.703999</td>\n",
              "      <td>0.134751</td>\n",
              "      <td>0.337556</td>\n",
              "      <td>0.407646</td>\n",
              "      <td>0.389870</td>\n",
              "    </tr>\n",
              "    <tr>\n",
              "      <th>2</th>\n",
              "      <td>division 3</td>\n",
              "      <td>0.537254</td>\n",
              "      <td>0.644097</td>\n",
              "      <td>0.812173</td>\n",
              "      <td>0.888641</td>\n",
              "      <td>0.156786</td>\n",
              "      <td>0.690259</td>\n",
              "      <td>0.383303</td>\n",
              "      <td>0.181603</td>\n",
              "      <td>0.140973</td>\n",
              "      <td>0.712872</td>\n",
              "      <td>0.089397</td>\n",
              "      <td>0.336658</td>\n",
              "      <td>0.381864</td>\n",
              "      <td>0.400401</td>\n",
              "    </tr>\n",
              "    <tr>\n",
              "      <th>3</th>\n",
              "      <td>division 4</td>\n",
              "      <td>0.523687</td>\n",
              "      <td>0.528268</td>\n",
              "      <td>0.818471</td>\n",
              "      <td>0.825235</td>\n",
              "      <td>0.159118</td>\n",
              "      <td>0.678183</td>\n",
              "      <td>0.424522</td>\n",
              "      <td>0.192199</td>\n",
              "      <td>0.147302</td>\n",
              "      <td>0.656601</td>\n",
              "      <td>0.079624</td>\n",
              "      <td>0.356438</td>\n",
              "      <td>0.404204</td>\n",
              "      <td>0.383505</td>\n",
              "    </tr>\n",
              "    <tr>\n",
              "      <th>4</th>\n",
              "      <td>division 5</td>\n",
              "      <td>0.537254</td>\n",
              "      <td>0.424550</td>\n",
              "      <td>0.807831</td>\n",
              "      <td>0.932589</td>\n",
              "      <td>0.156786</td>\n",
              "      <td>0.701260</td>\n",
              "      <td>0.422096</td>\n",
              "      <td>0.186465</td>\n",
              "      <td>0.289326</td>\n",
              "      <td>0.657508</td>\n",
              "      <td>0.089397</td>\n",
              "      <td>0.318193</td>\n",
              "      <td>0.406488</td>\n",
              "      <td>0.389229</td>\n",
              "    </tr>\n",
              "    <tr>\n",
              "      <th>5</th>\n",
              "      <td>division 6</td>\n",
              "      <td>0.638825</td>\n",
              "      <td>0.630826</td>\n",
              "      <td>0.732808</td>\n",
              "      <td>0.862834</td>\n",
              "      <td>0.156642</td>\n",
              "      <td>0.685546</td>\n",
              "      <td>0.437127</td>\n",
              "      <td>0.163918</td>\n",
              "      <td>0.136486</td>\n",
              "      <td>0.680813</td>\n",
              "      <td>0.099925</td>\n",
              "      <td>0.318193</td>\n",
              "      <td>0.398516</td>\n",
              "      <td>0.411894</td>\n",
              "    </tr>\n",
              "    <tr>\n",
              "      <th>6</th>\n",
              "      <td>division 7</td>\n",
              "      <td>0.670062</td>\n",
              "      <td>0.644561</td>\n",
              "      <td>0.826020</td>\n",
              "      <td>0.807891</td>\n",
              "      <td>0.156521</td>\n",
              "      <td>0.669747</td>\n",
              "      <td>0.389872</td>\n",
              "      <td>0.163199</td>\n",
              "      <td>0.136486</td>\n",
              "      <td>0.377862</td>\n",
              "      <td>0.100054</td>\n",
              "      <td>0.318193</td>\n",
              "      <td>0.374927</td>\n",
              "      <td>0.440480</td>\n",
              "    </tr>\n",
              "    <tr>\n",
              "      <th>7</th>\n",
              "      <td>division 8</td>\n",
              "      <td>0.523687</td>\n",
              "      <td>0.733546</td>\n",
              "      <td>0.844347</td>\n",
              "      <td>0.825890</td>\n",
              "      <td>0.154166</td>\n",
              "      <td>0.691624</td>\n",
              "      <td>0.365452</td>\n",
              "      <td>0.175740</td>\n",
              "      <td>0.254424</td>\n",
              "      <td>0.868658</td>\n",
              "      <td>0.096008</td>\n",
              "      <td>0.356956</td>\n",
              "      <td>0.411606</td>\n",
              "      <td>0.360781</td>\n",
              "    </tr>\n",
              "    <tr>\n",
              "      <th>8</th>\n",
              "      <td>division 9</td>\n",
              "      <td>0.526512</td>\n",
              "      <td>0.755747</td>\n",
              "      <td>0.816192</td>\n",
              "      <td>0.852988</td>\n",
              "      <td>0.174010</td>\n",
              "      <td>0.669747</td>\n",
              "      <td>0.344332</td>\n",
              "      <td>0.203682</td>\n",
              "      <td>0.143728</td>\n",
              "      <td>0.589970</td>\n",
              "      <td>0.170737</td>\n",
              "      <td>0.325485</td>\n",
              "      <td>0.392094</td>\n",
              "      <td>0.436763</td>\n",
              "    </tr>\n",
              "    <tr>\n",
              "      <th>9</th>\n",
              "      <td>division 10</td>\n",
              "      <td>0.506906</td>\n",
              "      <td>0.661814</td>\n",
              "      <td>0.861836</td>\n",
              "      <td>0.870987</td>\n",
              "      <td>0.156840</td>\n",
              "      <td>0.682650</td>\n",
              "      <td>0.472381</td>\n",
              "      <td>0.194346</td>\n",
              "      <td>0.133728</td>\n",
              "      <td>0.862729</td>\n",
              "      <td>0.077335</td>\n",
              "      <td>0.330558</td>\n",
              "      <td>0.423780</td>\n",
              "      <td>0.390068</td>\n",
              "    </tr>\n",
              "    <tr>\n",
              "      <th>10</th>\n",
              "      <td>division 11</td>\n",
              "      <td>0.517841</td>\n",
              "      <td>0.597741</td>\n",
              "      <td>0.792002</td>\n",
              "      <td>0.864911</td>\n",
              "      <td>0.156786</td>\n",
              "      <td>0.663431</td>\n",
              "      <td>0.360050</td>\n",
              "      <td>0.166793</td>\n",
              "      <td>0.138890</td>\n",
              "      <td>0.729905</td>\n",
              "      <td>0.097530</td>\n",
              "      <td>0.360132</td>\n",
              "      <td>0.412157</td>\n",
              "      <td>0.342581</td>\n",
              "    </tr>\n",
              "    <tr>\n",
              "      <th>11</th>\n",
              "      <td>division 12</td>\n",
              "      <td>0.674845</td>\n",
              "      <td>0.615017</td>\n",
              "      <td>0.821817</td>\n",
              "      <td>0.828888</td>\n",
              "      <td>0.158872</td>\n",
              "      <td>0.674776</td>\n",
              "      <td>0.378942</td>\n",
              "      <td>0.189925</td>\n",
              "      <td>0.259675</td>\n",
              "      <td>0.909723</td>\n",
              "      <td>0.173262</td>\n",
              "      <td>0.325485</td>\n",
              "      <td>0.484882</td>\n",
              "      <td>0.392799</td>\n",
              "    </tr>\n",
              "    <tr>\n",
              "      <th>12</th>\n",
              "      <td>division 13</td>\n",
              "      <td>0.523687</td>\n",
              "      <td>0.658070</td>\n",
              "      <td>0.810072</td>\n",
              "      <td>0.828873</td>\n",
              "      <td>0.147330</td>\n",
              "      <td>0.676553</td>\n",
              "      <td>0.384615</td>\n",
              "      <td>0.157228</td>\n",
              "      <td>0.136486</td>\n",
              "      <td>0.318436</td>\n",
              "      <td>0.099925</td>\n",
              "      <td>0.363712</td>\n",
              "      <td>0.364714</td>\n",
              "      <td>0.354272</td>\n",
              "    </tr>\n",
              "    <tr>\n",
              "      <th>13</th>\n",
              "      <td>division 14</td>\n",
              "      <td>0.633294</td>\n",
              "      <td>0.760323</td>\n",
              "      <td>0.863426</td>\n",
              "      <td>0.735230</td>\n",
              "      <td>0.163730</td>\n",
              "      <td>0.672292</td>\n",
              "      <td>0.457704</td>\n",
              "      <td>0.214271</td>\n",
              "      <td>0.241076</td>\n",
              "      <td>0.373002</td>\n",
              "      <td>0.089957</td>\n",
              "      <td>0.317449</td>\n",
              "      <td>0.396498</td>\n",
              "      <td>0.425733</td>\n",
              "    </tr>\n",
              "    <tr>\n",
              "      <th>14</th>\n",
              "      <td>division 15</td>\n",
              "      <td>0.498788</td>\n",
              "      <td>0.723196</td>\n",
              "      <td>0.824629</td>\n",
              "      <td>0.846609</td>\n",
              "      <td>0.163567</td>\n",
              "      <td>0.656970</td>\n",
              "      <td>0.422544</td>\n",
              "      <td>0.213898</td>\n",
              "      <td>0.240971</td>\n",
              "      <td>0.812992</td>\n",
              "      <td>0.134751</td>\n",
              "      <td>0.371491</td>\n",
              "      <td>0.398318</td>\n",
              "      <td>0.379697</td>\n",
              "    </tr>\n",
              "    <tr>\n",
              "      <th>15</th>\n",
              "      <td>division 16</td>\n",
              "      <td>0.670062</td>\n",
              "      <td>0.538493</td>\n",
              "      <td>0.751448</td>\n",
              "      <td>0.913622</td>\n",
              "      <td>0.171404</td>\n",
              "      <td>0.656393</td>\n",
              "      <td>0.394672</td>\n",
              "      <td>0.182269</td>\n",
              "      <td>0.256527</td>\n",
              "      <td>0.851962</td>\n",
              "      <td>0.115681</td>\n",
              "      <td>0.318193</td>\n",
              "      <td>0.476795</td>\n",
              "      <td>0.387726</td>\n",
              "    </tr>\n",
              "    <tr>\n",
              "      <th>16</th>\n",
              "      <td>division 17</td>\n",
              "      <td>0.523687</td>\n",
              "      <td>0.524989</td>\n",
              "      <td>0.815816</td>\n",
              "      <td>0.848968</td>\n",
              "      <td>0.171433</td>\n",
              "      <td>0.678719</td>\n",
              "      <td>0.428877</td>\n",
              "      <td>0.163208</td>\n",
              "      <td>0.286623</td>\n",
              "      <td>0.859786</td>\n",
              "      <td>0.094216</td>\n",
              "      <td>0.318193</td>\n",
              "      <td>0.388861</td>\n",
              "      <td>0.339828</td>\n",
              "    </tr>\n",
              "    <tr>\n",
              "      <th>17</th>\n",
              "      <td>division 18</td>\n",
              "      <td>0.560185</td>\n",
              "      <td>0.651841</td>\n",
              "      <td>0.781142</td>\n",
              "      <td>0.807313</td>\n",
              "      <td>0.161750</td>\n",
              "      <td>0.693064</td>\n",
              "      <td>0.444813</td>\n",
              "      <td>0.173457</td>\n",
              "      <td>0.250835</td>\n",
              "      <td>0.521288</td>\n",
              "      <td>0.102579</td>\n",
              "      <td>0.355012</td>\n",
              "      <td>0.450577</td>\n",
              "      <td>0.319402</td>\n",
              "    </tr>\n",
              "    <tr>\n",
              "      <th>18</th>\n",
              "      <td>division 19</td>\n",
              "      <td>0.523687</td>\n",
              "      <td>0.756626</td>\n",
              "      <td>0.855467</td>\n",
              "      <td>0.837073</td>\n",
              "      <td>0.171433</td>\n",
              "      <td>0.680687</td>\n",
              "      <td>0.449260</td>\n",
              "      <td>0.183830</td>\n",
              "      <td>0.262186</td>\n",
              "      <td>0.851953</td>\n",
              "      <td>0.100054</td>\n",
              "      <td>0.318193</td>\n",
              "      <td>0.388610</td>\n",
              "      <td>0.328606</td>\n",
              "    </tr>\n",
              "    <tr>\n",
              "      <th>19</th>\n",
              "      <td>division 20</td>\n",
              "      <td>0.670596</td>\n",
              "      <td>0.675821</td>\n",
              "      <td>0.855426</td>\n",
              "      <td>0.812202</td>\n",
              "      <td>0.161346</td>\n",
              "      <td>0.670986</td>\n",
              "      <td>0.484473</td>\n",
              "      <td>0.194456</td>\n",
              "      <td>0.241076</td>\n",
              "      <td>0.886459</td>\n",
              "      <td>0.079778</td>\n",
              "      <td>0.318193</td>\n",
              "      <td>0.407063</td>\n",
              "      <td>0.400116</td>\n",
              "    </tr>\n",
              "  </tbody>\n",
              "</table>\n",
              "</div>\n",
              "    <div class=\"colab-df-buttons\">\n",
              "\n",
              "  <div class=\"colab-df-container\">\n",
              "    <button class=\"colab-df-convert\" onclick=\"convertToInteractive('df-ff4cc402-37c9-4239-a867-7e19a392a888')\"\n",
              "            title=\"Convert this dataframe to an interactive table.\"\n",
              "            style=\"display:none;\">\n",
              "\n",
              "  <svg xmlns=\"http://www.w3.org/2000/svg\" height=\"24px\" viewBox=\"0 -960 960 960\">\n",
              "    <path d=\"M120-120v-720h720v720H120Zm60-500h600v-160H180v160Zm220 220h160v-160H400v160Zm0 220h160v-160H400v160ZM180-400h160v-160H180v160Zm440 0h160v-160H620v160ZM180-180h160v-160H180v160Zm440 0h160v-160H620v160Z\"/>\n",
              "  </svg>\n",
              "    </button>\n",
              "\n",
              "  <style>\n",
              "    .colab-df-container {\n",
              "      display:flex;\n",
              "      gap: 12px;\n",
              "    }\n",
              "\n",
              "    .colab-df-convert {\n",
              "      background-color: #E8F0FE;\n",
              "      border: none;\n",
              "      border-radius: 50%;\n",
              "      cursor: pointer;\n",
              "      display: none;\n",
              "      fill: #1967D2;\n",
              "      height: 32px;\n",
              "      padding: 0 0 0 0;\n",
              "      width: 32px;\n",
              "    }\n",
              "\n",
              "    .colab-df-convert:hover {\n",
              "      background-color: #E2EBFA;\n",
              "      box-shadow: 0px 1px 2px rgba(60, 64, 67, 0.3), 0px 1px 3px 1px rgba(60, 64, 67, 0.15);\n",
              "      fill: #174EA6;\n",
              "    }\n",
              "\n",
              "    .colab-df-buttons div {\n",
              "      margin-bottom: 4px;\n",
              "    }\n",
              "\n",
              "    [theme=dark] .colab-df-convert {\n",
              "      background-color: #3B4455;\n",
              "      fill: #D2E3FC;\n",
              "    }\n",
              "\n",
              "    [theme=dark] .colab-df-convert:hover {\n",
              "      background-color: #434B5C;\n",
              "      box-shadow: 0px 1px 3px 1px rgba(0, 0, 0, 0.15);\n",
              "      filter: drop-shadow(0px 1px 2px rgba(0, 0, 0, 0.3));\n",
              "      fill: #FFFFFF;\n",
              "    }\n",
              "  </style>\n",
              "\n",
              "    <script>\n",
              "      const buttonEl =\n",
              "        document.querySelector('#df-ff4cc402-37c9-4239-a867-7e19a392a888 button.colab-df-convert');\n",
              "      buttonEl.style.display =\n",
              "        google.colab.kernel.accessAllowed ? 'block' : 'none';\n",
              "\n",
              "      async function convertToInteractive(key) {\n",
              "        const element = document.querySelector('#df-ff4cc402-37c9-4239-a867-7e19a392a888');\n",
              "        const dataTable =\n",
              "          await google.colab.kernel.invokeFunction('convertToInteractive',\n",
              "                                                    [key], {});\n",
              "        if (!dataTable) return;\n",
              "\n",
              "        const docLinkHtml = 'Like what you see? Visit the ' +\n",
              "          '<a target=\"_blank\" href=https://colab.research.google.com/notebooks/data_table.ipynb>data table notebook</a>'\n",
              "          + ' to learn more about interactive tables.';\n",
              "        element.innerHTML = '';\n",
              "        dataTable['output_type'] = 'display_data';\n",
              "        await google.colab.output.renderOutput(dataTable, element);\n",
              "        const docLink = document.createElement('div');\n",
              "        docLink.innerHTML = docLinkHtml;\n",
              "        element.appendChild(docLink);\n",
              "      }\n",
              "    </script>\n",
              "  </div>\n",
              "\n",
              "\n",
              "<div id=\"df-56eb8fd3-9457-47d8-9d8e-ed2b2190c6e2\">\n",
              "  <button class=\"colab-df-quickchart\" onclick=\"quickchart('df-56eb8fd3-9457-47d8-9d8e-ed2b2190c6e2')\"\n",
              "            title=\"Suggest charts\"\n",
              "            style=\"display:none;\">\n",
              "\n",
              "<svg xmlns=\"http://www.w3.org/2000/svg\" height=\"24px\"viewBox=\"0 0 24 24\"\n",
              "     width=\"24px\">\n",
              "    <g>\n",
              "        <path d=\"M19 3H5c-1.1 0-2 .9-2 2v14c0 1.1.9 2 2 2h14c1.1 0 2-.9 2-2V5c0-1.1-.9-2-2-2zM9 17H7v-7h2v7zm4 0h-2V7h2v10zm4 0h-2v-4h2v4z\"/>\n",
              "    </g>\n",
              "</svg>\n",
              "  </button>\n",
              "\n",
              "<style>\n",
              "  .colab-df-quickchart {\n",
              "      --bg-color: #E8F0FE;\n",
              "      --fill-color: #1967D2;\n",
              "      --hover-bg-color: #E2EBFA;\n",
              "      --hover-fill-color: #174EA6;\n",
              "      --disabled-fill-color: #AAA;\n",
              "      --disabled-bg-color: #DDD;\n",
              "  }\n",
              "\n",
              "  [theme=dark] .colab-df-quickchart {\n",
              "      --bg-color: #3B4455;\n",
              "      --fill-color: #D2E3FC;\n",
              "      --hover-bg-color: #434B5C;\n",
              "      --hover-fill-color: #FFFFFF;\n",
              "      --disabled-bg-color: #3B4455;\n",
              "      --disabled-fill-color: #666;\n",
              "  }\n",
              "\n",
              "  .colab-df-quickchart {\n",
              "    background-color: var(--bg-color);\n",
              "    border: none;\n",
              "    border-radius: 50%;\n",
              "    cursor: pointer;\n",
              "    display: none;\n",
              "    fill: var(--fill-color);\n",
              "    height: 32px;\n",
              "    padding: 0;\n",
              "    width: 32px;\n",
              "  }\n",
              "\n",
              "  .colab-df-quickchart:hover {\n",
              "    background-color: var(--hover-bg-color);\n",
              "    box-shadow: 0 1px 2px rgba(60, 64, 67, 0.3), 0 1px 3px 1px rgba(60, 64, 67, 0.15);\n",
              "    fill: var(--button-hover-fill-color);\n",
              "  }\n",
              "\n",
              "  .colab-df-quickchart-complete:disabled,\n",
              "  .colab-df-quickchart-complete:disabled:hover {\n",
              "    background-color: var(--disabled-bg-color);\n",
              "    fill: var(--disabled-fill-color);\n",
              "    box-shadow: none;\n",
              "  }\n",
              "\n",
              "  .colab-df-spinner {\n",
              "    border: 2px solid var(--fill-color);\n",
              "    border-color: transparent;\n",
              "    border-bottom-color: var(--fill-color);\n",
              "    animation:\n",
              "      spin 1s steps(1) infinite;\n",
              "  }\n",
              "\n",
              "  @keyframes spin {\n",
              "    0% {\n",
              "      border-color: transparent;\n",
              "      border-bottom-color: var(--fill-color);\n",
              "      border-left-color: var(--fill-color);\n",
              "    }\n",
              "    20% {\n",
              "      border-color: transparent;\n",
              "      border-left-color: var(--fill-color);\n",
              "      border-top-color: var(--fill-color);\n",
              "    }\n",
              "    30% {\n",
              "      border-color: transparent;\n",
              "      border-left-color: var(--fill-color);\n",
              "      border-top-color: var(--fill-color);\n",
              "      border-right-color: var(--fill-color);\n",
              "    }\n",
              "    40% {\n",
              "      border-color: transparent;\n",
              "      border-right-color: var(--fill-color);\n",
              "      border-top-color: var(--fill-color);\n",
              "    }\n",
              "    60% {\n",
              "      border-color: transparent;\n",
              "      border-right-color: var(--fill-color);\n",
              "    }\n",
              "    80% {\n",
              "      border-color: transparent;\n",
              "      border-right-color: var(--fill-color);\n",
              "      border-bottom-color: var(--fill-color);\n",
              "    }\n",
              "    90% {\n",
              "      border-color: transparent;\n",
              "      border-bottom-color: var(--fill-color);\n",
              "    }\n",
              "  }\n",
              "</style>\n",
              "\n",
              "  <script>\n",
              "    async function quickchart(key) {\n",
              "      const quickchartButtonEl =\n",
              "        document.querySelector('#' + key + ' button');\n",
              "      quickchartButtonEl.disabled = true;  // To prevent multiple clicks.\n",
              "      quickchartButtonEl.classList.add('colab-df-spinner');\n",
              "      try {\n",
              "        const charts = await google.colab.kernel.invokeFunction(\n",
              "            'suggestCharts', [key], {});\n",
              "      } catch (error) {\n",
              "        console.error('Error during call to suggestCharts:', error);\n",
              "      }\n",
              "      quickchartButtonEl.classList.remove('colab-df-spinner');\n",
              "      quickchartButtonEl.classList.add('colab-df-quickchart-complete');\n",
              "    }\n",
              "    (() => {\n",
              "      let quickchartButtonEl =\n",
              "        document.querySelector('#df-56eb8fd3-9457-47d8-9d8e-ed2b2190c6e2 button');\n",
              "      quickchartButtonEl.style.display =\n",
              "        google.colab.kernel.accessAllowed ? 'block' : 'none';\n",
              "    })();\n",
              "  </script>\n",
              "</div>\n",
              "\n",
              "  <div id=\"id_d7932186-42e6-48cb-8d20-d3e17d6b8140\">\n",
              "    <style>\n",
              "      .colab-df-generate {\n",
              "        background-color: #E8F0FE;\n",
              "        border: none;\n",
              "        border-radius: 50%;\n",
              "        cursor: pointer;\n",
              "        display: none;\n",
              "        fill: #1967D2;\n",
              "        height: 32px;\n",
              "        padding: 0 0 0 0;\n",
              "        width: 32px;\n",
              "      }\n",
              "\n",
              "      .colab-df-generate:hover {\n",
              "        background-color: #E2EBFA;\n",
              "        box-shadow: 0px 1px 2px rgba(60, 64, 67, 0.3), 0px 1px 3px 1px rgba(60, 64, 67, 0.15);\n",
              "        fill: #174EA6;\n",
              "      }\n",
              "\n",
              "      [theme=dark] .colab-df-generate {\n",
              "        background-color: #3B4455;\n",
              "        fill: #D2E3FC;\n",
              "      }\n",
              "\n",
              "      [theme=dark] .colab-df-generate:hover {\n",
              "        background-color: #434B5C;\n",
              "        box-shadow: 0px 1px 3px 1px rgba(0, 0, 0, 0.15);\n",
              "        filter: drop-shadow(0px 1px 2px rgba(0, 0, 0, 0.3));\n",
              "        fill: #FFFFFF;\n",
              "      }\n",
              "    </style>\n",
              "    <button class=\"colab-df-generate\" onclick=\"generateWithVariable('output_in_csv')\"\n",
              "            title=\"Generate code using this dataframe.\"\n",
              "            style=\"display:none;\">\n",
              "\n",
              "  <svg xmlns=\"http://www.w3.org/2000/svg\" height=\"24px\"viewBox=\"0 0 24 24\"\n",
              "       width=\"24px\">\n",
              "    <path d=\"M7,19H8.4L18.45,9,17,7.55,7,17.6ZM5,21V16.75L18.45,3.32a2,2,0,0,1,2.83,0l1.4,1.43a1.91,1.91,0,0,1,.58,1.4,1.91,1.91,0,0,1-.58,1.4L9.25,21ZM18.45,9,17,7.55Zm-12,3A5.31,5.31,0,0,0,4.9,8.1,5.31,5.31,0,0,0,1,6.5,5.31,5.31,0,0,0,4.9,4.9,5.31,5.31,0,0,0,6.5,1,5.31,5.31,0,0,0,8.1,4.9,5.31,5.31,0,0,0,12,6.5,5.46,5.46,0,0,0,6.5,12Z\"/>\n",
              "  </svg>\n",
              "    </button>\n",
              "    <script>\n",
              "      (() => {\n",
              "      const buttonEl =\n",
              "        document.querySelector('#id_d7932186-42e6-48cb-8d20-d3e17d6b8140 button.colab-df-generate');\n",
              "      buttonEl.style.display =\n",
              "        google.colab.kernel.accessAllowed ? 'block' : 'none';\n",
              "\n",
              "      buttonEl.onclick = () => {\n",
              "        google.colab.notebook.generateWithVariable('output_in_csv');\n",
              "      }\n",
              "      })();\n",
              "    </script>\n",
              "  </div>\n",
              "\n",
              "    </div>\n",
              "  </div>\n"
            ],
            "application/vnd.google.colaboratory.intrinsic+json": {
              "type": "dataframe",
              "variable_name": "output_in_csv",
              "summary": "{\n  \"name\": \"output_in_csv\",\n  \"rows\": 20,\n  \"fields\": [\n    {\n      \"column\": \"division no\",\n      \"properties\": {\n        \"dtype\": \"string\",\n        \"num_unique_values\": 20,\n        \"samples\": [\n          \"division 1\",\n          \"division 18\",\n          \"division 16\"\n        ],\n        \"semantic_type\": \"\",\n        \"description\": \"\"\n      }\n    },\n    {\n      \"column\": \"yan\",\n      \"properties\": {\n        \"dtype\": \"number\",\n        \"std\": 0.06577790346883296,\n        \"min\": 0.49281086855390344,\n        \"max\": 0.6748452860156366,\n        \"num_unique_values\": 14,\n        \"samples\": [\n          0.6748452860156366,\n          0.49878817879666476,\n          0.5589060947333554\n        ],\n        \"semantic_type\": \"\",\n        \"description\": \"\"\n      }\n    },\n    {\n      \"column\": \"yan_imputed\",\n      \"properties\": {\n        \"dtype\": \"number\",\n        \"std\": 0.09181389069328064,\n        \"min\": 0.4245503656195617,\n        \"max\": 0.7673530540065122,\n        \"num_unique_values\": 20,\n        \"samples\": [\n          0.6707589879387099,\n          0.651840639813456,\n          0.5384929024719395\n        ],\n        \"semantic_type\": \"\",\n        \"description\": \"\"\n      }\n    },\n    {\n      \"column\": \"pollen\",\n      \"properties\": {\n        \"dtype\": \"number\",\n        \"std\": 0.03374420419048583,\n        \"min\": 0.732807542376515,\n        \"max\": 0.8634255148408375,\n        \"num_unique_values\": 20,\n        \"samples\": [\n          0.8276305398364099,\n          0.7811423995765385,\n          0.7514475638719323\n        ],\n        \"semantic_type\": \"\",\n        \"description\": \"\"\n      }\n    },\n    {\n      \"column\": \"pollen_imputed\",\n      \"properties\": {\n        \"dtype\": \"number\",\n        \"std\": 0.04517457133587487,\n        \"min\": 0.7352299586845559,\n        \"max\": 0.9325887875201655,\n        \"num_unique_values\": 20,\n        \"samples\": [\n          0.7765930593339044,\n          0.8073134524817128,\n          0.913622089131667\n        ],\n        \"semantic_type\": \"\",\n        \"description\": \"\"\n      }\n    },\n    {\n      \"column\": \"kolodziejczyk\",\n      \"properties\": {\n        \"dtype\": \"number\",\n        \"std\": 0.006765023127604768,\n        \"min\": 0.14733010813297323,\n        \"max\": 0.17401034296535814,\n        \"num_unique_values\": 15,\n        \"samples\": [\n          0.1637301058134907,\n          0.17140353980039327,\n          0.15887200685273953\n        ],\n        \"semantic_type\": \"\",\n        \"description\": \"\"\n      }\n    },\n    {\n      \"column\": \"kolodziejczyk_imputed\",\n      \"properties\": {\n        \"dtype\": \"number\",\n        \"std\": 0.011869045319056248,\n        \"min\": 0.6563934683782929,\n        \"max\": 0.7012602266218139,\n        \"num_unique_values\": 18,\n        \"samples\": [\n          0.6722915289893381,\n          0.6882056239336246,\n          0.6826502583621228\n        ],\n        \"semantic_type\": \"\",\n        \"description\": \"\"\n      }\n    },\n    {\n      \"column\": \"intestine\",\n      \"properties\": {\n        \"dtype\": \"number\",\n        \"std\": 0.039835915861698976,\n        \"min\": 0.344331792625682,\n        \"max\": 0.48447335753537357,\n        \"num_unique_values\": 20,\n        \"samples\": [\n          0.42092523282778277,\n          0.4448129928903409,\n          0.3946718910513247\n        ],\n        \"semantic_type\": \"\",\n        \"description\": \"\"\n      }\n    },\n    {\n      \"column\": \"intestine_imputed\",\n      \"properties\": {\n        \"dtype\": \"number\",\n        \"std\": 0.023020919868338895,\n        \"min\": 0.15722767279589966,\n        \"max\": 0.2552820323591906,\n        \"num_unique_values\": 20,\n        \"samples\": [\n          0.2552820323591906,\n          0.17345701864799398,\n          0.1822688355241272\n        ],\n        \"semantic_type\": \"\",\n        \"description\": \"\"\n      }\n    },\n    {\n      \"column\": \"goolam\",\n      \"properties\": {\n        \"dtype\": \"number\",\n        \"std\": 0.06107911317114803,\n        \"min\": 0.13372784905986976,\n        \"max\": 0.2893257358460169,\n        \"num_unique_values\": 15,\n        \"samples\": [\n          0.25967493113543744,\n          0.256526835399932,\n          0.14372810477057832\n        ],\n        \"semantic_type\": \"\",\n        \"description\": \"\"\n      }\n    },\n    {\n      \"column\": \"goolam_imputed\",\n      \"properties\": {\n        \"dtype\": \"number\",\n        \"std\": 0.18432304975022568,\n        \"min\": 0.3184358338531707,\n        \"max\": 0.9097233120863492,\n        \"num_unique_values\": 20,\n        \"samples\": [\n          0.8489378689012756,\n          0.5212882222846259,\n          0.8519623919012974\n        ],\n        \"semantic_type\": \"\",\n        \"description\": \"\"\n      }\n    },\n    {\n      \"column\": \"fan\",\n      \"properties\": {\n        \"dtype\": \"number\",\n        \"std\": 0.02773775865590676,\n        \"min\": 0.07733466555334499,\n        \"max\": 0.1732615676298782,\n        \"num_unique_values\": 15,\n        \"samples\": [\n          0.09752980283261514,\n          0.08995662635288884,\n          0.07977811851718229\n        ],\n        \"semantic_type\": \"\",\n        \"description\": \"\"\n      }\n    },\n    {\n      \"column\": \"fan_imputed\",\n      \"properties\": {\n        \"dtype\": \"number\",\n        \"std\": 0.019864706151489414,\n        \"min\": 0.31744869712429363,\n        \"max\": 0.37149081910374154,\n        \"num_unique_values\": 13,\n        \"samples\": [\n          0.37149081910374154,\n          0.3637118446824908,\n          0.3652638593155481\n        ],\n        \"semantic_type\": \"\",\n        \"description\": \"\"\n      }\n    },\n    {\n      \"column\": \"deng-rpkms\",\n      \"properties\": {\n        \"dtype\": \"number\",\n        \"std\": 0.030544556433751185,\n        \"min\": 0.3647139104558853,\n        \"max\": 0.4848822962140172,\n        \"num_unique_values\": 20,\n        \"samples\": [\n          0.40356168240813023,\n          0.4505773386637535,\n          0.4767951124767335\n        ],\n        \"semantic_type\": \"\",\n        \"description\": \"\"\n      }\n    },\n    {\n      \"column\": \"deng-rpkms_imputed\",\n      \"properties\": {\n        \"dtype\": \"number\",\n        \"std\": 0.03385376494060943,\n        \"min\": 0.3194022220967764,\n        \"max\": 0.44047961079507364,\n        \"num_unique_values\": 20,\n        \"samples\": [\n          0.39871291955650606,\n          0.3194022220967764,\n          0.3877261973869619\n        ],\n        \"semantic_type\": \"\",\n        \"description\": \"\"\n      }\n    }\n  ]\n}"
            }
          },
          "metadata": {},
          "execution_count": 15
        }
      ]
    },
    {
      "cell_type": "code",
      "source": [],
      "metadata": {
        "id": "4IZ4Y47C2gzy"
      },
      "execution_count": null,
      "outputs": []
    }
  ],
  "metadata": {
    "colab": {
      "provenance": []
    },
    "kernelspec": {
      "display_name": "Python 3",
      "name": "python3"
    },
    "language_info": {
      "name": "python"
    }
  },
  "nbformat": 4,
  "nbformat_minor": 0
}